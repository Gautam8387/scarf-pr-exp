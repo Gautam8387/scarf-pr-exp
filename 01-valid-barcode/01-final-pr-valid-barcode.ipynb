{
 "cells": [
  {
   "cell_type": "code",
   "execution_count": 1,
   "metadata": {},
   "outputs": [],
   "source": [
    "from utils import controlled_compute, logger, tqdmbar, show_dask_progress, load_zarr, ZARRLOC\n",
    "from typing import Generator, IO, Any, Tuple, List, Union, Dict, Optional\n",
    "from scipy.sparse import csr_matrix, coo_matrix\n",
    "import nexusformat.nexus as nx\n",
    "import pandas as pd\n",
    "import numpy as np\n",
    "import h5py\n",
    "import sys\n",
    "import os\n",
    "import math\n",
    "import zarr"
   ]
  },
  {
   "cell_type": "code",
   "execution_count": 2,
   "metadata": {},
   "outputs": [
    {
     "name": "stdout",
     "output_type": "stream",
     "text": [
      "Scarf is not installed\n"
     ]
    }
   ],
   "source": [
    "# __init__.py at ./\n",
    "sys.path.append('..')\n",
    "import scarf"
   ]
  },
  {
   "cell_type": "code",
   "execution_count": 3,
   "metadata": {},
   "outputs": [
    {
     "name": "stdout",
     "output_type": "stream",
     "text": [
      "time: 82.9 μs (started: 2024-08-30 01:46:43 +05:30)\n"
     ]
    }
   ],
   "source": [
    "%load_ext autotime"
   ]
  },
  {
   "cell_type": "markdown",
   "metadata": {},
   "source": [
    "# Existing Datasets"
   ]
  },
  {
   "cell_type": "code",
   "execution_count": null,
   "metadata": {},
   "outputs": [],
   "source": [
    "# This dataset is in Cellranger (10x) HDF5 format.\n",
    "scarf.fetch_dataset(\n",
    "    dataset_name='tenx_10K_pbmc-v1_atacseq',\n",
    "    save_path='./test_data'\n",
    ")"
   ]
  },
  {
   "cell_type": "code",
   "execution_count": null,
   "metadata": {},
   "outputs": [],
   "source": [
    "# This dataset is in MTX format along with barcodes and features TSV files.\n",
    "scarf.fetch_dataset(\n",
    "    dataset_name='xin_1K_pancreas_rnaseq',\n",
    "    save_path='./test_data'\n",
    ")"
   ]
  },
  {
   "cell_type": "markdown",
   "metadata": {},
   "source": [
    "# Reader"
   ]
  },
  {
   "cell_type": "code",
   "execution_count": 4,
   "metadata": {},
   "outputs": [
    {
     "name": "stdout",
     "output_type": "stream",
     "text": [
      "\u001b[33m\u001b[1mWARNING\u001b[0m: feature_types extraction failed from features.tsv.gz in column 2\n"
     ]
    },
    {
     "name": "stdout",
     "output_type": "stream",
     "text": [
      "time: 148 ms (started: 2024-08-30 01:46:47 +05:30)\n"
     ]
    }
   ],
   "source": [
    "reader = scarf.CrDirReader('./test_data/xin_1K_pancreas_rnaseq', is_filtered=True)\n",
    "writer = scarf.CrToZarr(reader, '../../tmp/zarr-converted/xin_1K_pancreas_rnaseq_dev.zarr')"
   ]
  },
  {
   "cell_type": "code",
   "execution_count": 6,
   "metadata": {},
   "outputs": [
    {
     "data": {
      "application/vnd.jupyter.widget-view+json": {
       "model_id": "8a16efc8083743a5ab4681e6c3b85ba8",
       "version_major": 2,
       "version_minor": 0
      },
      "text/plain": [
       "  0%|                                                                                                         …"
      ]
     },
     "metadata": {},
     "output_type": "display_data"
    },
    {
     "name": "stdout",
     "output_type": "stream",
     "text": [
      "time: 6.91 s (started: 2024-08-30 01:46:57 +05:30)\n"
     ]
    }
   ],
   "source": [
    "writer.dump()"
   ]
  },
  {
   "cell_type": "markdown",
   "metadata": {},
   "source": [
    "# Check"
   ]
  },
  {
   "cell_type": "code",
   "execution_count": 8,
   "metadata": {},
   "outputs": [
    {
     "name": "stdout",
     "output_type": "stream",
     "text": [
      "time: 10.4 ms (started: 2024-08-30 01:49:40 +05:30)\n"
     ]
    }
   ],
   "source": [
    "orginal_zarr = zarr.open('../../tmp/zarr-converted/xin_1K_pancreas_rnaseq_org.zarr')\n",
    "orginal_zarr_count = orginal_zarr['RNA/counts']\n",
    "new_zarr = zarr.open('../../tmp/zarr-converted/xin_1K_pancreas_rnaseq_dev.zarr')\n",
    "new_zarr_count = new_zarr['RNA/counts']"
   ]
  },
  {
   "cell_type": "code",
   "execution_count": 9,
   "metadata": {},
   "outputs": [
    {
     "name": "stdout",
     "output_type": "stream",
     "text": [
      "Name        : /\n",
      "Type        : zarr.hierarchy.Group\n",
      "Read-only   : False\n",
      "Store type  : zarr.storage.DirectoryStore\n",
      "No. members : 2\n",
      "No. arrays  : 0\n",
      "No. groups  : 2\n",
      "Groups      : RNA, cellData\n",
      "\n",
      "Name               : /RNA/counts\n",
      "Type               : zarr.core.Array\n",
      "Data type          : uint32\n",
      "Shape              : (1600, 39846)\n",
      "Chunk shape        : (1000, 1000)\n",
      "Order              : C\n",
      "Read-only          : False\n",
      "Compressor         : Blosc(cname='lz4', clevel=5, shuffle=BITSHUFFLE,\n",
      "                   : blocksize=0)\n",
      "Store type         : zarr.storage.DirectoryStore\n",
      "No. bytes          : 255014400 (243.2M)\n",
      "No. bytes stored   : 96038826 (91.6M)\n",
      "Storage ratio      : 2.7\n",
      "Chunks initialized : 80/80\n",
      "\n"
     ]
    },
    {
     "data": {
      "text/plain": [
       "(None, None)"
      ]
     },
     "execution_count": 9,
     "metadata": {},
     "output_type": "execute_result"
    },
    {
     "name": "stdout",
     "output_type": "stream",
     "text": [
      "time: 6.02 ms (started: 2024-08-30 01:49:41 +05:30)\n"
     ]
    }
   ],
   "source": [
    "print(orginal_zarr.info), print(orginal_zarr_count.info)"
   ]
  },
  {
   "cell_type": "code",
   "execution_count": 10,
   "metadata": {},
   "outputs": [
    {
     "name": "stdout",
     "output_type": "stream",
     "text": [
      "Name        : /\n",
      "Type        : zarr.hierarchy.Group\n",
      "Read-only   : False\n",
      "Store type  : zarr.storage.DirectoryStore\n",
      "No. members : 2\n",
      "No. arrays  : 0\n",
      "No. groups  : 2\n",
      "Groups      : RNA, cellData\n",
      "\n",
      "Name               : /RNA/counts\n",
      "Type               : zarr.core.Array\n",
      "Data type          : uint32\n",
      "Shape              : (1600, 39846)\n",
      "Chunk shape        : (1000, 1000)\n",
      "Order              : C\n",
      "Read-only          : False\n",
      "Compressor         : Blosc(cname='lz4', clevel=5, shuffle=BITSHUFFLE,\n",
      "                   : blocksize=0)\n",
      "Store type         : zarr.storage.DirectoryStore\n",
      "No. bytes          : 255014400 (243.2M)\n",
      "No. bytes stored   : 96038826 (91.6M)\n",
      "Storage ratio      : 2.7\n",
      "Chunks initialized : 80/80\n",
      "\n"
     ]
    },
    {
     "data": {
      "text/plain": [
       "(None, None)"
      ]
     },
     "execution_count": 10,
     "metadata": {},
     "output_type": "execute_result"
    },
    {
     "name": "stdout",
     "output_type": "stream",
     "text": [
      "time: 5.61 ms (started: 2024-08-30 01:49:41 +05:30)\n"
     ]
    }
   ],
   "source": [
    "print(new_zarr.info), print(new_zarr_count.info)"
   ]
  },
  {
   "cell_type": "code",
   "execution_count": 11,
   "metadata": {},
   "outputs": [
    {
     "name": "stdout",
     "output_type": "stream",
     "text": [
      "time: 622 μs (started: 2024-08-30 01:49:42 +05:30)\n"
     ]
    }
   ],
   "source": [
    "assert orginal_zarr_count.nchunks == new_zarr_count.nchunks"
   ]
  },
  {
   "cell_type": "code",
   "execution_count": 12,
   "metadata": {},
   "outputs": [
    {
     "name": "stdout",
     "output_type": "stream",
     "text": [
      "time: 225 μs (started: 2024-08-30 01:49:42 +05:30)\n"
     ]
    }
   ],
   "source": [
    "assert orginal_zarr_count.shape == new_zarr_count.shape"
   ]
  },
  {
   "cell_type": "code",
   "execution_count": 13,
   "metadata": {},
   "outputs": [
    {
     "name": "stdout",
     "output_type": "stream",
     "text": [
      "time: 271 μs (started: 2024-08-30 01:49:42 +05:30)\n"
     ]
    }
   ],
   "source": [
    "assert orginal_zarr_count.chunks == new_zarr_count.chunks"
   ]
  },
  {
   "cell_type": "code",
   "execution_count": 14,
   "metadata": {},
   "outputs": [
    {
     "name": "stdout",
     "output_type": "stream",
     "text": [
      "time: 276 μs (started: 2024-08-30 01:49:42 +05:30)\n"
     ]
    }
   ],
   "source": [
    "chunks = math.ceil(orginal_zarr_count.shape[0] / orginal_zarr_count.chunks[0])"
   ]
  },
  {
   "cell_type": "code",
   "execution_count": 15,
   "metadata": {},
   "outputs": [
    {
     "name": "stdout",
     "output_type": "stream",
     "text": [
      "All checks passed! for chunk 0\n",
      "All checks passed! for chunk 1\n",
      "time: 793 ms (started: 2024-08-30 01:49:43 +05:30)\n"
     ]
    }
   ],
   "source": [
    "for chunk in range(chunks):\n",
    "    org_data = orginal_zarr_count.get_block_selection(chunk)\n",
    "    new_data = new_zarr_count.get_block_selection(chunk)\n",
    "    # sums check\n",
    "    assert np.sum(org_data) == np.sum(new_data)\n",
    "    # shape check\n",
    "    assert org_data.shape == new_data.shape\n",
    "    # chunk check\n",
    "    assert np.array_equal(org_data, new_data)\n",
    "    print(f'All checks passed! for chunk {chunk}')"
   ]
  },
  {
   "cell_type": "code",
   "execution_count": 16,
   "metadata": {},
   "outputs": [
    {
     "data": {
      "text/plain": [
       "array([[     0,      0,      0, ...,      0,      0,      0],\n",
       "       [172867,      0,      0, ...,      0,      0,      0],\n",
       "       [     0,      0,      0, ...,      0,      0,      0],\n",
       "       ...,\n",
       "       [311225,      0,      0, ...,      0,      0,      0],\n",
       "       [     0, 474664,      0, ...,      0,      0,      0],\n",
       "       [  5788,      0,      0, ...,      0,      0,      0]],\n",
       "      dtype=uint32)"
      ]
     },
     "execution_count": 16,
     "metadata": {},
     "output_type": "execute_result"
    },
    {
     "name": "stdout",
     "output_type": "stream",
     "text": [
      "time: 3.27 ms (started: 2024-08-30 01:49:44 +05:30)\n"
     ]
    }
   ],
   "source": [
    "org_data[...]"
   ]
  },
  {
   "cell_type": "code",
   "execution_count": 17,
   "metadata": {},
   "outputs": [
    {
     "data": {
      "text/plain": [
       "array([[     0,      0,      0, ...,      0,      0,      0],\n",
       "       [172867,      0,      0, ...,      0,      0,      0],\n",
       "       [     0,      0,      0, ...,      0,      0,      0],\n",
       "       ...,\n",
       "       [311225,      0,      0, ...,      0,      0,      0],\n",
       "       [     0, 474664,      0, ...,      0,      0,      0],\n",
       "       [  5788,      0,      0, ...,      0,      0,      0]],\n",
       "      dtype=uint32)"
      ]
     },
     "execution_count": 17,
     "metadata": {},
     "output_type": "execute_result"
    },
    {
     "name": "stdout",
     "output_type": "stream",
     "text": [
      "time: 4.58 ms (started: 2024-08-30 01:49:44 +05:30)\n"
     ]
    }
   ],
   "source": [
    "new_data[...]"
   ]
  },
  {
   "cell_type": "markdown",
   "metadata": {},
   "source": [
    "# 10X Genomics Dataset\n",
    "### Compare Filtering in HDF5 and MEX formats"
   ]
  },
  {
   "cell_type": "markdown",
   "metadata": {},
   "source": [
    "# 1 Modality"
   ]
  },
  {
   "cell_type": "code",
   "execution_count": 18,
   "metadata": {},
   "outputs": [
    {
     "name": "stdout",
     "output_type": "stream",
     "text": [
      "time: 464 μs (started: 2024-08-30 01:49:44 +05:30)\n"
     ]
    }
   ],
   "source": [
    "h5_path = './test_data/10k_Mouse_Neurons_3p_nextgem_Multiplex_count_raw_feature_bc_matrix.h5'\n",
    "mex_path = './test_data/10k_Mouse_Neurons_3p_nextgem_Multiplex_count_raw_feature_bc_matrix/raw_feature_bc_matrix'"
   ]
  },
  {
   "cell_type": "code",
   "execution_count": 19,
   "metadata": {},
   "outputs": [
    {
     "data": {
      "application/vnd.jupyter.widget-view+json": {
       "model_id": "8f6c345f8d504864a96f191005d59a48",
       "version_major": 2,
       "version_minor": 0
      },
      "text/plain": [
       "Filtering out background barcodes:   0%|                                                                      …"
      ]
     },
     "metadata": {},
     "output_type": "display_data"
    },
    {
     "name": "stdout",
     "output_type": "stream",
     "text": [
      "time: 6.79 s (started: 2024-08-30 01:49:44 +05:30)\n"
     ]
    }
   ],
   "source": [
    "h5_reader = scarf.CrH5Reader(h5_path, is_filtered=False)\n",
    "h5_writer = scarf.CrToZarr(h5_reader, '../../tmp/h5_10k_Mouse_Neurons_3p_nextgem_Multiplex_count_raw_feature_bc_matrix.zarr')"
   ]
  },
  {
   "cell_type": "code",
   "execution_count": 20,
   "metadata": {},
   "outputs": [
    {
     "data": {
      "application/vnd.jupyter.widget-view+json": {
       "model_id": "640f07ebab714b829eb1d134a942bc30",
       "version_major": 2,
       "version_minor": 0
      },
      "text/plain": [
       "  0%|                                                                                                         …"
      ]
     },
     "metadata": {},
     "output_type": "display_data"
    },
    {
     "name": "stdout",
     "output_type": "stream",
     "text": [
      "time: 4.83 s (started: 2024-08-30 01:49:51 +05:30)\n"
     ]
    }
   ],
   "source": [
    "h5_writer.dump()"
   ]
  },
  {
   "cell_type": "code",
   "execution_count": 21,
   "metadata": {},
   "outputs": [
    {
     "data": {
      "application/vnd.jupyter.widget-view+json": {
       "model_id": "9de2f2f2a3704e38ade84697f3002343",
       "version_major": 2,
       "version_minor": 0
      },
      "text/plain": [
       "Filtering out background barcodes:   0%|                                                                      …"
      ]
     },
     "metadata": {},
     "output_type": "display_data"
    },
    {
     "name": "stdout",
     "output_type": "stream",
     "text": [
      "time: 25.1 s (started: 2024-08-30 01:49:56 +05:30)\n"
     ]
    }
   ],
   "source": [
    "mex_reader = scarf.CrDirReader(mex_path, is_filtered=False)\n",
    "mex_writer = scarf.CrToZarr(mex_reader, '../../tmp/mex_10k_Mouse_Neurons_3p_nextgem_Multiplex_count_raw_feature_bc_matrix.zarr')"
   ]
  },
  {
   "cell_type": "code",
   "execution_count": 22,
   "metadata": {},
   "outputs": [
    {
     "data": {
      "application/vnd.jupyter.widget-view+json": {
       "model_id": "04aeb8d37f414bda908f06973a2b441e",
       "version_major": 2,
       "version_minor": 0
      },
      "text/plain": [
       "  0%|                                                                                                         …"
      ]
     },
     "metadata": {},
     "output_type": "display_data"
    },
    {
     "name": "stdout",
     "output_type": "stream",
     "text": [
      "time: 14.7 s (started: 2024-08-30 01:50:21 +05:30)\n"
     ]
    }
   ],
   "source": [
    "mex_writer.dump()"
   ]
  },
  {
   "cell_type": "code",
   "execution_count": 23,
   "metadata": {},
   "outputs": [
    {
     "name": "stdout",
     "output_type": "stream",
     "text": [
      "time: 6.84 ms (started: 2024-08-30 01:50:35 +05:30)\n"
     ]
    }
   ],
   "source": [
    "# Check\n",
    "h5_zarr = zarr.open('../../tmp/h5_10k_Mouse_Neurons_3p_nextgem_Multiplex_count_raw_feature_bc_matrix.zarr')\n",
    "h5_zarr_count = h5_zarr['RNA/counts']\n",
    "mex_zarr = zarr.open('../../tmp/mex_10k_Mouse_Neurons_3p_nextgem_Multiplex_count_raw_feature_bc_matrix.zarr')\n",
    "mex_zarr_count = mex_zarr['RNA/counts']"
   ]
  },
  {
   "cell_type": "code",
   "execution_count": 24,
   "metadata": {},
   "outputs": [
    {
     "name": "stdout",
     "output_type": "stream",
     "text": [
      "nChunks check\n",
      "Shape check\n",
      "Chunks check\n",
      "time: 1.34 ms (started: 2024-08-30 01:50:36 +05:30)\n"
     ]
    }
   ],
   "source": [
    "print(\"nChunks check\")\n",
    "assert h5_zarr_count.nchunks == mex_zarr_count.nchunks\n",
    "print(\"Shape check\")\n",
    "assert h5_zarr_count.shape == mex_zarr_count.shape\n",
    "print(\"Chunks check\")\n",
    "assert h5_zarr_count.chunks == mex_zarr_count.chunks"
   ]
  },
  {
   "cell_type": "code",
   "execution_count": 25,
   "metadata": {},
   "outputs": [
    {
     "name": "stdout",
     "output_type": "stream",
     "text": [
      "time: 658 μs (started: 2024-08-30 01:50:36 +05:30)\n"
     ]
    }
   ],
   "source": [
    "chunks = math.ceil(h5_zarr_count.shape[0] / h5_zarr_count.chunks[0])"
   ]
  },
  {
   "cell_type": "code",
   "execution_count": 26,
   "metadata": {},
   "outputs": [
    {
     "name": "stdout",
     "output_type": "stream",
     "text": [
      "All checks passed! for chunk 0\n",
      "All checks passed! for chunk 1\n",
      "All checks passed! for chunk 2\n",
      "All checks passed! for chunk 3\n",
      "All checks passed! for chunk 4\n",
      "All checks passed! for chunk 5\n",
      "All checks passed! for chunk 6\n",
      "All checks passed! for chunk 7\n",
      "All checks passed! for chunk 8\n",
      "All checks passed! for chunk 9\n",
      "All checks passed! for chunk 10\n",
      "time: 3.51 s (started: 2024-08-30 01:50:36 +05:30)\n"
     ]
    }
   ],
   "source": [
    "for chunk in range(chunks):\n",
    "    h5_data = h5_zarr_count.get_block_selection(chunk)\n",
    "    mex_data = mex_zarr_count.get_block_selection(chunk)\n",
    "    # sums check\n",
    "    assert np.sum(h5_data) == np.sum(mex_data)\n",
    "    # shape check\n",
    "    assert h5_data.shape == mex_data.shape\n",
    "    # chunk check\n",
    "    assert np.array_equal(h5_data, mex_data)\n",
    "    print(f'All checks passed! for chunk {chunk}')"
   ]
  },
  {
   "cell_type": "code",
   "execution_count": 27,
   "metadata": {},
   "outputs": [
    {
     "data": {
      "text/plain": [
       "array([[1, 0, 0, ..., 0, 0, 3],\n",
       "       [0, 0, 0, ..., 0, 0, 2],\n",
       "       [0, 0, 0, ..., 0, 0, 1],\n",
       "       ...,\n",
       "       [0, 0, 0, ..., 0, 0, 1],\n",
       "       [0, 0, 0, ..., 0, 0, 0],\n",
       "       [0, 0, 0, ..., 0, 0, 0]], dtype=uint32)"
      ]
     },
     "execution_count": 27,
     "metadata": {},
     "output_type": "execute_result"
    },
    {
     "name": "stdout",
     "output_type": "stream",
     "text": [
      "time: 6.57 ms (started: 2024-08-30 01:50:39 +05:30)\n"
     ]
    }
   ],
   "source": [
    "h5_data[...]"
   ]
  },
  {
   "cell_type": "code",
   "execution_count": 28,
   "metadata": {},
   "outputs": [
    {
     "data": {
      "text/plain": [
       "array([[1, 0, 0, ..., 0, 0, 3],\n",
       "       [0, 0, 0, ..., 0, 0, 2],\n",
       "       [0, 0, 0, ..., 0, 0, 1],\n",
       "       ...,\n",
       "       [0, 0, 0, ..., 0, 0, 1],\n",
       "       [0, 0, 0, ..., 0, 0, 0],\n",
       "       [0, 0, 0, ..., 0, 0, 0]], dtype=uint32)"
      ]
     },
     "execution_count": 28,
     "metadata": {},
     "output_type": "execute_result"
    },
    {
     "name": "stdout",
     "output_type": "stream",
     "text": [
      "time: 5.18 ms (started: 2024-08-30 01:50:39 +05:30)\n"
     ]
    }
   ],
   "source": [
    "mex_data[...]"
   ]
  },
  {
   "cell_type": "markdown",
   "metadata": {},
   "source": [
    "# 2 Modalities"
   ]
  },
  {
   "cell_type": "code",
   "execution_count": 29,
   "metadata": {},
   "outputs": [
    {
     "name": "stdout",
     "output_type": "stream",
     "text": [
      "time: 626 μs (started: 2024-08-30 01:50:39 +05:30)\n"
     ]
    }
   ],
   "source": [
    "h5_path = './test_data/10k_Human_PBMC_TotalSeqB_3p_gemx_Multiplex_count_raw_feature_bc_matrix.h5'\n",
    "mex_path = './test_data/10k_Human_PBMC_TotalSeqB_3p_gemx_Multiplex_count_raw_feature_bc_matrix/raw_feature_bc_matrix'"
   ]
  },
  {
   "cell_type": "code",
   "execution_count": 30,
   "metadata": {},
   "outputs": [
    {
     "data": {
      "application/vnd.jupyter.widget-view+json": {
       "model_id": "3bc5f065a17a4a2488f58c200fe4858d",
       "version_major": 2,
       "version_minor": 0
      },
      "text/plain": [
       "Filtering out background barcodes:   0%|                                                                      …"
      ]
     },
     "metadata": {},
     "output_type": "display_data"
    },
    {
     "data": {
      "application/vnd.jupyter.widget-view+json": {
       "model_id": "048c9ec3a70945ccad81d9e723e3419e",
       "version_major": 2,
       "version_minor": 0
      },
      "text/plain": [
       "  0%|                                                                                                         …"
      ]
     },
     "metadata": {},
     "output_type": "display_data"
    },
    {
     "name": "stdout",
     "output_type": "stream",
     "text": [
      "time: 21.9 s (started: 2024-08-30 01:50:39 +05:30)\n"
     ]
    }
   ],
   "source": [
    "h5_reader = scarf.CrH5Reader(h5_path, is_filtered=False)\n",
    "h5_writer = scarf.CrToZarr(h5_reader, '../../tmp/h5_10k_Human_PBMC_TotalSeqB_3p_gemx_Multiplex_count_raw_feature_bc_matrix.zarr')\n",
    "h5_writer.dump()"
   ]
  },
  {
   "cell_type": "code",
   "execution_count": 31,
   "metadata": {},
   "outputs": [
    {
     "data": {
      "application/vnd.jupyter.widget-view+json": {
       "model_id": "dfbee3fe8b044061a5831540d2c6f2f7",
       "version_major": 2,
       "version_minor": 0
      },
      "text/plain": [
       "Filtering out background barcodes:   0%|                                                                      …"
      ]
     },
     "metadata": {},
     "output_type": "display_data"
    },
    {
     "data": {
      "application/vnd.jupyter.widget-view+json": {
       "model_id": "4e39a70298bf45158d0cefffbd164956",
       "version_major": 2,
       "version_minor": 0
      },
      "text/plain": [
       "  0%|                                                                                                         …"
      ]
     },
     "metadata": {},
     "output_type": "display_data"
    },
    {
     "name": "stdout",
     "output_type": "stream",
     "text": [
      "time: 1min 18s (started: 2024-08-30 01:51:01 +05:30)\n"
     ]
    }
   ],
   "source": [
    "mex_reader = scarf.CrDirReader(mex_path, is_filtered=False)\n",
    "mex_writer = scarf.CrToZarr(mex_reader, '../../tmp/mex_10k_Human_PBMC_TotalSeqB_3p_gemx_Multiplex_count_raw_feature_bc_matrix.zarr')\n",
    "mex_writer.dump()"
   ]
  },
  {
   "cell_type": "code",
   "execution_count": 32,
   "metadata": {},
   "outputs": [
    {
     "name": "stdout",
     "output_type": "stream",
     "text": [
      "time: 7.78 ms (started: 2024-08-30 01:52:20 +05:30)\n"
     ]
    }
   ],
   "source": [
    "# Check\n",
    "h5_zarr = zarr.open('../../tmp/h5_10k_Human_PBMC_TotalSeqB_3p_gemx_Multiplex_count_raw_feature_bc_matrix.zarr')\n",
    "h5_zarr_count = h5_zarr['RNA/counts']\n",
    "mex_zarr = zarr.open('../../tmp/mex_10k_Human_PBMC_TotalSeqB_3p_gemx_Multiplex_count_raw_feature_bc_matrix.zarr')\n",
    "mex_zarr_count = mex_zarr['RNA/counts']"
   ]
  },
  {
   "cell_type": "code",
   "execution_count": 33,
   "metadata": {},
   "outputs": [
    {
     "name": "stdout",
     "output_type": "stream",
     "text": [
      "nChunks check\n",
      "Shape check\n",
      "Chunks check\n",
      "time: 1.16 ms (started: 2024-08-30 01:52:20 +05:30)\n"
     ]
    }
   ],
   "source": [
    "print(\"nChunks check\")\n",
    "assert h5_zarr_count.nchunks == mex_zarr_count.nchunks\n",
    "print(\"Shape check\")\n",
    "assert h5_zarr_count.shape == mex_zarr_count.shape\n",
    "print(\"Chunks check\")\n",
    "assert h5_zarr_count.chunks == mex_zarr_count.chunks"
   ]
  },
  {
   "cell_type": "code",
   "execution_count": 34,
   "metadata": {},
   "outputs": [
    {
     "name": "stdout",
     "output_type": "stream",
     "text": [
      "time: 804 μs (started: 2024-08-30 01:52:20 +05:30)\n"
     ]
    }
   ],
   "source": [
    "nchunks = math.ceil(h5_zarr_count.shape[0] / h5_zarr_count.chunks[0])"
   ]
  },
  {
   "cell_type": "code",
   "execution_count": 35,
   "metadata": {},
   "outputs": [
    {
     "name": "stdout",
     "output_type": "stream",
     "text": [
      "All checks passed! for chunk 0\n",
      "All checks passed! for chunk 1\n",
      "All checks passed! for chunk 2\n",
      "All checks passed! for chunk 3\n",
      "All checks passed! for chunk 4\n",
      "All checks passed! for chunk 5\n",
      "All checks passed! for chunk 6\n",
      "All checks passed! for chunk 7\n",
      "All checks passed! for chunk 8\n",
      "All checks passed! for chunk 9\n",
      "All checks passed! for chunk 10\n",
      "time: 5.31 s (started: 2024-08-30 01:52:21 +05:30)\n"
     ]
    }
   ],
   "source": [
    "for chunk in range(nchunks):\n",
    "    h5_data = h5_zarr_count.get_block_selection(chunk)\n",
    "    mex_data = mex_zarr_count.get_block_selection(chunk)\n",
    "    # sums check\n",
    "    assert np.sum(h5_data) == np.sum(mex_data)\n",
    "    # shape check\n",
    "    assert h5_data.shape == mex_data.shape\n",
    "    # chunk check\n",
    "    assert np.array_equal(h5_data, mex_data)\n",
    "    print(f'All checks passed! for chunk {chunk}')"
   ]
  },
  {
   "cell_type": "markdown",
   "metadata": {},
   "source": [
    "# Different Filtering Cutoff"
   ]
  },
  {
   "cell_type": "code",
   "execution_count": 36,
   "metadata": {},
   "outputs": [
    {
     "name": "stdout",
     "output_type": "stream",
     "text": [
      "time: 2.3 ms (started: 2024-08-30 01:52:26 +05:30)\n"
     ]
    }
   ],
   "source": [
    "def make_test(h5_path, mex_path, h5_save_path, mex_save_path, filter_cut):\n",
    "    print(\"Processing HDF5\")\n",
    "    h5_reader = scarf.CrH5Reader(h5_path, is_filtered=False, filtering_cutoff=filter_cut)\n",
    "    h5_writer = scarf.CrToZarr(h5_reader, h5_save_path)\n",
    "    h5_writer.dump()\n",
    "\n",
    "    print(\"Processing MEX\")\n",
    "    mex_reader = scarf.CrDirReader(mex_path, is_filtered=False, filtering_cutoff=filter_cut)\n",
    "    mex_writer = scarf.CrToZarr(mex_reader, mex_save_path)\n",
    "    mex_writer.dump()\n",
    "\n",
    "    h5_zarr = zarr.open(h5_save_path)\n",
    "    h5_zarr_count = h5_zarr['RNA/counts']\n",
    "    mex_zarr = zarr.open(mex_save_path)\n",
    "    mex_zarr_count = mex_zarr['RNA/counts']\n",
    "\n",
    "    print(\"nChunks check\")\n",
    "    assert h5_zarr_count.nchunks == mex_zarr_count.nchunks\n",
    "    print(\"Shape check\")\n",
    "    assert h5_zarr_count.shape == mex_zarr_count.shape\n",
    "    print(\"Chunks check\")\n",
    "    assert h5_zarr_count.chunks == mex_zarr_count.chunks\n",
    "\n",
    "    chunks = math.ceil(h5_zarr_count.shape[0] / h5_zarr_count.chunks[0])\n",
    "    for chunk in range(chunks):\n",
    "        h5_data = h5_zarr_count.get_block_selection(chunk)\n",
    "        mex_data = mex_zarr_count.get_block_selection(chunk)\n",
    "        # sums check\n",
    "        assert np.sum(h5_data) == np.sum(mex_data)\n",
    "        # shape check\n",
    "        assert h5_data.shape == mex_data.shape\n",
    "        # chunk check\n",
    "        assert np.array_equal(h5_data, mex_data)\n",
    "        print(f'All checks passed! for chunk {chunk}')"
   ]
  },
  {
   "cell_type": "code",
   "execution_count": 37,
   "metadata": {},
   "outputs": [
    {
     "name": "stdout",
     "output_type": "stream",
     "text": [
      "Processing HDF5\n"
     ]
    },
    {
     "data": {
      "application/vnd.jupyter.widget-view+json": {
       "model_id": "d4674ebbe8d8468ab73c698d263bae62",
       "version_major": 2,
       "version_minor": 0
      },
      "text/plain": [
       "Filtering out background barcodes:   0%|                                                                      …"
      ]
     },
     "metadata": {},
     "output_type": "display_data"
    },
    {
     "data": {
      "application/vnd.jupyter.widget-view+json": {
       "model_id": "cf121a9525114ac0b22b3887437d2c56",
       "version_major": 2,
       "version_minor": 0
      },
      "text/plain": [
       "  0%|                                                                                                         …"
      ]
     },
     "metadata": {},
     "output_type": "display_data"
    },
    {
     "name": "stdout",
     "output_type": "stream",
     "text": [
      "Processing MEX\n"
     ]
    },
    {
     "data": {
      "application/vnd.jupyter.widget-view+json": {
       "model_id": "96240891dbfe4ecb8be61ce8dbaf60b2",
       "version_major": 2,
       "version_minor": 0
      },
      "text/plain": [
       "Filtering out background barcodes:   0%|                                                                      …"
      ]
     },
     "metadata": {},
     "output_type": "display_data"
    },
    {
     "data": {
      "application/vnd.jupyter.widget-view+json": {
       "model_id": "bde7ee883233403ab1ed51e0737ac47f",
       "version_major": 2,
       "version_minor": 0
      },
      "text/plain": [
       "  0%|                                                                                                         …"
      ]
     },
     "metadata": {},
     "output_type": "display_data"
    },
    {
     "name": "stdout",
     "output_type": "stream",
     "text": [
      "nChunks check\n",
      "Shape check\n",
      "Chunks check\n",
      "All checks passed! for chunk 0\n",
      "All checks passed! for chunk 1\n",
      "All checks passed! for chunk 2\n",
      "All checks passed! for chunk 3\n",
      "All checks passed! for chunk 4\n",
      "All checks passed! for chunk 5\n",
      "All checks passed! for chunk 6\n",
      "All checks passed! for chunk 7\n",
      "All checks passed! for chunk 8\n",
      "All checks passed! for chunk 9\n",
      "All checks passed! for chunk 10\n",
      "All checks passed! for chunk 11\n",
      "All checks passed! for chunk 12\n",
      "All checks passed! for chunk 13\n",
      "All checks passed! for chunk 14\n",
      "All checks passed! for chunk 15\n",
      "All checks passed! for chunk 16\n",
      "All checks passed! for chunk 17\n",
      "All checks passed! for chunk 18\n",
      "All checks passed! for chunk 19\n",
      "All checks passed! for chunk 20\n",
      "All checks passed! for chunk 21\n",
      "All checks passed! for chunk 22\n",
      "All checks passed! for chunk 23\n",
      "All checks passed! for chunk 24\n",
      "All checks passed! for chunk 25\n",
      "All checks passed! for chunk 26\n",
      "All checks passed! for chunk 27\n",
      "All checks passed! for chunk 28\n",
      "All checks passed! for chunk 29\n",
      "All checks passed! for chunk 30\n",
      "All checks passed! for chunk 31\n",
      "All checks passed! for chunk 32\n",
      "All checks passed! for chunk 33\n",
      "All checks passed! for chunk 34\n",
      "All checks passed! for chunk 35\n",
      "All checks passed! for chunk 36\n",
      "All checks passed! for chunk 37\n",
      "All checks passed! for chunk 38\n",
      "All checks passed! for chunk 39\n",
      "All checks passed! for chunk 40\n",
      "All checks passed! for chunk 41\n",
      "All checks passed! for chunk 42\n",
      "time: 1min 11s (started: 2024-08-30 01:52:26 +05:30)\n"
     ]
    }
   ],
   "source": [
    "h5_path = './test_data/10k_Mouse_Neurons_3p_nextgem_Multiplex_count_raw_feature_bc_matrix.h5'\n",
    "mex_path = './test_data/10k_Mouse_Neurons_3p_nextgem_Multiplex_count_raw_feature_bc_matrix/raw_feature_bc_matrix'\n",
    "\n",
    "h5_save_path = '../../tmp/h5_100_10k_Mouse_Neurons_3p_nextgem_Multiplex_count_raw_feature_bc_matrix.zarr'\n",
    "mex_save_path = '../../tmp/mex_100_10k_Mouse_Neurons_3p_nextgem_Multiplex_count_raw_feature_bc_matrix.zarr'\n",
    "\n",
    "make_test(h5_path, mex_path, h5_save_path, mex_save_path, 100)"
   ]
  },
  {
   "cell_type": "code",
   "execution_count": 38,
   "metadata": {},
   "outputs": [
    {
     "name": "stdout",
     "output_type": "stream",
     "text": [
      "Processing HDF5\n"
     ]
    },
    {
     "data": {
      "application/vnd.jupyter.widget-view+json": {
       "model_id": "d6aa4ce76129485ca0b8a25ca55e69e7",
       "version_major": 2,
       "version_minor": 0
      },
      "text/plain": [
       "Filtering out background barcodes:   0%|                                                                      …"
      ]
     },
     "metadata": {},
     "output_type": "display_data"
    },
    {
     "data": {
      "application/vnd.jupyter.widget-view+json": {
       "model_id": "06252e7379e34bd3aabf02681a53bf5b",
       "version_major": 2,
       "version_minor": 0
      },
      "text/plain": [
       "  0%|                                                                                                         …"
      ]
     },
     "metadata": {},
     "output_type": "display_data"
    },
    {
     "name": "stdout",
     "output_type": "stream",
     "text": [
      "Processing MEX\n"
     ]
    },
    {
     "data": {
      "application/vnd.jupyter.widget-view+json": {
       "model_id": "99f005c4933d463da9d041edcf678393",
       "version_major": 2,
       "version_minor": 0
      },
      "text/plain": [
       "Filtering out background barcodes:   0%|                                                                      …"
      ]
     },
     "metadata": {},
     "output_type": "display_data"
    },
    {
     "data": {
      "application/vnd.jupyter.widget-view+json": {
       "model_id": "d435e3a92b804c3eae85ae62b8c86a12",
       "version_major": 2,
       "version_minor": 0
      },
      "text/plain": [
       "  0%|                                                                                                         …"
      ]
     },
     "metadata": {},
     "output_type": "display_data"
    },
    {
     "name": "stdout",
     "output_type": "stream",
     "text": [
      "nChunks check\n",
      "Shape check\n",
      "Chunks check\n",
      "All checks passed! for chunk 0\n",
      "All checks passed! for chunk 1\n",
      "All checks passed! for chunk 2\n",
      "time: 42.8 s (started: 2024-08-30 01:53:38 +05:30)\n"
     ]
    }
   ],
   "source": [
    "h5_path = './test_data/10k_Mouse_Neurons_3p_nextgem_Multiplex_count_raw_feature_bc_matrix.h5'\n",
    "mex_path = './test_data/10k_Mouse_Neurons_3p_nextgem_Multiplex_count_raw_feature_bc_matrix/raw_feature_bc_matrix'\n",
    "\n",
    "h5_save_path = '../../tmp/h5_10000_10k_Mouse_Neurons_3p_nextgem_Multiplex_count_raw_feature_bc_matrix.zarr'\n",
    "mex_save_path = '../../tmp/mex_10000_10k_Mouse_Neurons_3p_nextgem_Multiplex_count_raw_feature_bc_matrix.zarr'\n",
    "\n",
    "make_test(h5_path, mex_path, h5_save_path, mex_save_path, 10000)"
   ]
  },
  {
   "cell_type": "markdown",
   "metadata": {},
   "source": [
    "Multimodal"
   ]
  },
  {
   "cell_type": "code",
   "execution_count": 39,
   "metadata": {},
   "outputs": [
    {
     "name": "stdout",
     "output_type": "stream",
     "text": [
      "Processing HDF5\n"
     ]
    },
    {
     "data": {
      "application/vnd.jupyter.widget-view+json": {
       "model_id": "b55cf1c0309e45a5b9bc605c1ac5e867",
       "version_major": 2,
       "version_minor": 0
      },
      "text/plain": [
       "Filtering out background barcodes:   0%|                                                                      …"
      ]
     },
     "metadata": {},
     "output_type": "display_data"
    },
    {
     "data": {
      "application/vnd.jupyter.widget-view+json": {
       "model_id": "056f8a45fb9a46efb865b8f2d3268e36",
       "version_major": 2,
       "version_minor": 0
      },
      "text/plain": [
       "  0%|                                                                                                         …"
      ]
     },
     "metadata": {},
     "output_type": "display_data"
    },
    {
     "name": "stdout",
     "output_type": "stream",
     "text": [
      "Processing MEX\n"
     ]
    },
    {
     "data": {
      "application/vnd.jupyter.widget-view+json": {
       "model_id": "dedbbebe16144de78152d3c4b7a0589e",
       "version_major": 2,
       "version_minor": 0
      },
      "text/plain": [
       "Filtering out background barcodes:   0%|                                                                      …"
      ]
     },
     "metadata": {},
     "output_type": "display_data"
    },
    {
     "data": {
      "application/vnd.jupyter.widget-view+json": {
       "model_id": "7ac89f9badc04d7fa8bb19372ae8a4f0",
       "version_major": 2,
       "version_minor": 0
      },
      "text/plain": [
       "  0%|                                                                                                         …"
      ]
     },
     "metadata": {},
     "output_type": "display_data"
    },
    {
     "name": "stdout",
     "output_type": "stream",
     "text": [
      "nChunks check\n",
      "Shape check\n",
      "Chunks check\n",
      "All checks passed! for chunk 0\n",
      "All checks passed! for chunk 1\n",
      "All checks passed! for chunk 2\n",
      "All checks passed! for chunk 3\n",
      "All checks passed! for chunk 4\n",
      "All checks passed! for chunk 5\n",
      "All checks passed! for chunk 6\n",
      "All checks passed! for chunk 7\n",
      "All checks passed! for chunk 8\n",
      "All checks passed! for chunk 9\n",
      "All checks passed! for chunk 10\n",
      "All checks passed! for chunk 11\n",
      "All checks passed! for chunk 12\n",
      "All checks passed! for chunk 13\n",
      "All checks passed! for chunk 14\n",
      "All checks passed! for chunk 15\n",
      "All checks passed! for chunk 16\n",
      "All checks passed! for chunk 17\n",
      "All checks passed! for chunk 18\n",
      "All checks passed! for chunk 19\n",
      "All checks passed! for chunk 20\n",
      "All checks passed! for chunk 21\n",
      "All checks passed! for chunk 22\n",
      "All checks passed! for chunk 23\n",
      "All checks passed! for chunk 24\n",
      "All checks passed! for chunk 25\n",
      "All checks passed! for chunk 26\n",
      "time: 1min 31s (started: 2024-08-30 01:54:20 +05:30)\n"
     ]
    }
   ],
   "source": [
    "h5_path = './test_data/10k_Human_PBMC_TotalSeqB_3p_gemx_Multiplex_count_raw_feature_bc_matrix.h5'\n",
    "mex_path = './test_data/10k_Human_PBMC_TotalSeqB_3p_gemx_Multiplex_count_raw_feature_bc_matrix/raw_feature_bc_matrix'\n",
    "\n",
    "h5_save_path = '../../tmp/h5_100_10k_Human_PBMC_TotalSeqB_3p_gemx_Multiplex_count_raw_feature_bc_matrix.zarr'\n",
    "mex_save_path = '../../tmp/mex_100_10k_Human_PBMC_TotalSeqB_3p_gemx_Multiplex_count_raw_feature_bc_matrix.zarr'\n",
    "\n",
    "make_test(h5_path, mex_path, h5_save_path, mex_save_path, 100)"
   ]
  },
  {
   "cell_type": "code",
   "execution_count": 40,
   "metadata": {},
   "outputs": [
    {
     "name": "stdout",
     "output_type": "stream",
     "text": [
      "Processing HDF5\n"
     ]
    },
    {
     "data": {
      "application/vnd.jupyter.widget-view+json": {
       "model_id": "1a9eb6f268c241a0a6dbf370546fa12d",
       "version_major": 2,
       "version_minor": 0
      },
      "text/plain": [
       "Filtering out background barcodes:   0%|                                                                      …"
      ]
     },
     "metadata": {},
     "output_type": "display_data"
    },
    {
     "data": {
      "application/vnd.jupyter.widget-view+json": {
       "model_id": "0ee7fd0bd3504095a1891b294dc8e50c",
       "version_major": 2,
       "version_minor": 0
      },
      "text/plain": [
       "  0%|                                                                                                         …"
      ]
     },
     "metadata": {},
     "output_type": "display_data"
    },
    {
     "name": "stdout",
     "output_type": "stream",
     "text": [
      "Processing MEX\n"
     ]
    },
    {
     "data": {
      "application/vnd.jupyter.widget-view+json": {
       "model_id": "dab455d92bb441e49cd36e3db1dd07c5",
       "version_major": 2,
       "version_minor": 0
      },
      "text/plain": [
       "Filtering out background barcodes:   0%|                                                                      …"
      ]
     },
     "metadata": {},
     "output_type": "display_data"
    },
    {
     "data": {
      "application/vnd.jupyter.widget-view+json": {
       "model_id": "dd5ebb0beb4647fb83d899bdd89ef77a",
       "version_major": 2,
       "version_minor": 0
      },
      "text/plain": [
       "  0%|                                                                                                         …"
      ]
     },
     "metadata": {},
     "output_type": "display_data"
    },
    {
     "name": "stdout",
     "output_type": "stream",
     "text": [
      "nChunks check\n",
      "Shape check\n",
      "Chunks check\n",
      "All checks passed! for chunk 0\n",
      "All checks passed! for chunk 1\n",
      "All checks passed! for chunk 2\n",
      "All checks passed! for chunk 3\n",
      "All checks passed! for chunk 4\n",
      "All checks passed! for chunk 5\n",
      "All checks passed! for chunk 6\n",
      "All checks passed! for chunk 7\n",
      "All checks passed! for chunk 8\n",
      "All checks passed! for chunk 9\n",
      "time: 1min 30s (started: 2024-08-30 01:55:52 +05:30)\n"
     ]
    }
   ],
   "source": [
    "h5_path = './test_data/10k_Human_PBMC_TotalSeqB_3p_gemx_Multiplex_count_raw_feature_bc_matrix.h5'\n",
    "mex_path = './test_data/10k_Human_PBMC_TotalSeqB_3p_gemx_Multiplex_count_raw_feature_bc_matrix/raw_feature_bc_matrix'\n",
    "\n",
    "h5_save_path = '../../tmp/h5_10000_10k_Human_PBMC_TotalSeqB_3p_gemx_Multiplex_count_raw_feature_bc_matrix.zarr'\n",
    "mex_save_path = '../../tmp/mex_10000_10k_Human_PBMC_TotalSeqB_3p_gemx_Multiplex_count_raw_feature_bc_matrix.zarr'\n",
    "\n",
    "make_test(h5_path, mex_path, h5_save_path, mex_save_path, 10000)"
   ]
  },
  {
   "cell_type": "code",
   "execution_count": null,
   "metadata": {},
   "outputs": [],
   "source": []
  }
 ],
 "metadata": {
  "kernelspec": {
   "display_name": "scarf",
   "language": "python",
   "name": "python3"
  },
  "language_info": {
   "codemirror_mode": {
    "name": "ipython",
    "version": 3
   },
   "file_extension": ".py",
   "mimetype": "text/x-python",
   "name": "python",
   "nbconvert_exporter": "python",
   "pygments_lexer": "ipython3",
   "version": "3.11.9"
  }
 },
 "nbformat": 4,
 "nbformat_minor": 2
}
