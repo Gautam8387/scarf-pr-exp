{
 "cells": [
  {
   "cell_type": "code",
   "execution_count": 1,
   "metadata": {},
   "outputs": [],
   "source": [
    "from utils import controlled_compute, logger, tqdmbar, show_dask_progress, load_zarr, ZARRLOC\n",
    "from typing import Generator, IO, Any, Tuple, List, Union, Dict, Optional\n",
    "from scipy.sparse import csr_matrix, coo_matrix\n",
    "import nexusformat.nexus as nx\n",
    "import pandas as pd\n",
    "import numpy as np\n",
    "import h5py\n",
    "import sys\n",
    "import os\n",
    "import math\n",
    "import zarr"
   ]
  },
  {
   "cell_type": "code",
   "execution_count": 2,
   "metadata": {},
   "outputs": [
    {
     "name": "stdout",
     "output_type": "stream",
     "text": [
      "Scarf is not installed\n"
     ]
    }
   ],
   "source": [
    "# __init__.py at ./\n",
    "sys.path.append('..')\n",
    "import scarf"
   ]
  },
  {
   "cell_type": "code",
   "execution_count": 3,
   "metadata": {},
   "outputs": [
    {
     "name": "stdout",
     "output_type": "stream",
     "text": [
      "time: 104 μs (started: 2024-08-28 20:09:37 +05:30)\n"
     ]
    }
   ],
   "source": [
    "%load_ext autotime"
   ]
  },
  {
   "cell_type": "markdown",
   "metadata": {},
   "source": [
    "# Existing Datasets"
   ]
  },
  {
   "cell_type": "code",
   "execution_count": null,
   "metadata": {},
   "outputs": [],
   "source": [
    "# This dataset is in Cellranger (10x) HDF5 format.\n",
    "scarf.fetch_dataset(\n",
    "    dataset_name='tenx_10K_pbmc-v1_atacseq',\n",
    "    save_path='../../scarf/scarf/test_data'\n",
    ")"
   ]
  },
  {
   "cell_type": "code",
   "execution_count": null,
   "metadata": {},
   "outputs": [],
   "source": [
    "# This dataset is in MTX format along with barcodes and features TSV files.\n",
    "scarf.fetch_dataset(\n",
    "    dataset_name='xin_1K_pancreas_rnaseq',\n",
    "    save_path='../../scarf/scarf/test_data'\n",
    ")"
   ]
  },
  {
   "cell_type": "markdown",
   "metadata": {},
   "source": [
    "# Reader"
   ]
  },
  {
   "cell_type": "code",
   "execution_count": 4,
   "metadata": {},
   "outputs": [
    {
     "name": "stdout",
     "output_type": "stream",
     "text": [
      "\u001b[33m\u001b[1mWARNING\u001b[0m: feature_types extraction failed from features.tsv.gz in column 2\n"
     ]
    },
    {
     "name": "stdout",
     "output_type": "stream",
     "text": [
      "time: 175 ms (started: 2024-08-28 20:09:39 +05:30)\n"
     ]
    }
   ],
   "source": [
    "reader = scarf.CrDirReader('../../scarf/scarf/test_data/xin_1K_pancreas_rnaseq', is_filtered=True)\n",
    "writer = scarf.CrToZarr(reader, '../../tmp/zarr-converted/xin_1K_pancreas_rnaseq_dev.zarr')"
   ]
  },
  {
   "cell_type": "code",
   "execution_count": 5,
   "metadata": {},
   "outputs": [
    {
     "data": {
      "application/vnd.jupyter.widget-view+json": {
       "model_id": "888f7b5e89744b3995719cc6b9e6f198",
       "version_major": 2,
       "version_minor": 0
      },
      "text/plain": [
       "  0%|                                                                                                         …"
      ]
     },
     "metadata": {},
     "output_type": "display_data"
    },
    {
     "name": "stdout",
     "output_type": "stream",
     "text": [
      "time: 4.55 s (started: 2024-08-28 20:09:39 +05:30)\n"
     ]
    }
   ],
   "source": [
    "writer.dump()"
   ]
  },
  {
   "cell_type": "markdown",
   "metadata": {},
   "source": [
    "# Check"
   ]
  },
  {
   "cell_type": "code",
   "execution_count": 6,
   "metadata": {},
   "outputs": [
    {
     "name": "stdout",
     "output_type": "stream",
     "text": [
      "time: 7.12 ms (started: 2024-08-28 20:09:47 +05:30)\n"
     ]
    }
   ],
   "source": [
    "orginal_zarr = zarr.open('../../tmp/zarr-converted/xin_1K_pancreas_rnaseq_org.zarr')\n",
    "orginal_zarr_count = orginal_zarr['RNA/counts']\n",
    "new_zarr = zarr.open('../../tmp/zarr-converted/xin_1K_pancreas_rnaseq_dev.zarr')\n",
    "new_zarr_count = new_zarr['RNA/counts']"
   ]
  },
  {
   "cell_type": "code",
   "execution_count": 7,
   "metadata": {},
   "outputs": [
    {
     "name": "stdout",
     "output_type": "stream",
     "text": [
      "Name        : /\n",
      "Type        : zarr.hierarchy.Group\n",
      "Read-only   : False\n",
      "Store type  : zarr.storage.DirectoryStore\n",
      "No. members : 2\n",
      "No. arrays  : 0\n",
      "No. groups  : 2\n",
      "Groups      : RNA, cellData\n",
      "\n",
      "Name               : /RNA/counts\n",
      "Type               : zarr.core.Array\n",
      "Data type          : uint32\n",
      "Shape              : (1600, 39846)\n",
      "Chunk shape        : (1000, 1000)\n",
      "Order              : C\n",
      "Read-only          : False\n",
      "Compressor         : Blosc(cname='lz4', clevel=5, shuffle=BITSHUFFLE,\n",
      "                   : blocksize=0)\n",
      "Store type         : zarr.storage.DirectoryStore\n",
      "No. bytes          : 255014400 (243.2M)\n",
      "No. bytes stored   : 96038826 (91.6M)\n",
      "Storage ratio      : 2.7\n",
      "Chunks initialized : 80/80\n",
      "\n"
     ]
    },
    {
     "data": {
      "text/plain": [
       "(None, None)"
      ]
     },
     "execution_count": 7,
     "metadata": {},
     "output_type": "execute_result"
    },
    {
     "name": "stdout",
     "output_type": "stream",
     "text": [
      "time: 13.9 ms (started: 2024-08-28 20:09:48 +05:30)\n"
     ]
    }
   ],
   "source": [
    "print(orginal_zarr.info), print(orginal_zarr_count.info)"
   ]
  },
  {
   "cell_type": "code",
   "execution_count": 8,
   "metadata": {},
   "outputs": [
    {
     "name": "stdout",
     "output_type": "stream",
     "text": [
      "Name        : /\n",
      "Type        : zarr.hierarchy.Group\n",
      "Read-only   : False\n",
      "Store type  : zarr.storage.DirectoryStore\n",
      "No. members : 2\n",
      "No. arrays  : 0\n",
      "No. groups  : 2\n",
      "Groups      : RNA, cellData\n",
      "\n",
      "Name               : /RNA/counts\n",
      "Type               : zarr.core.Array\n",
      "Data type          : uint32\n",
      "Shape              : (1600, 39846)\n",
      "Chunk shape        : (1000, 1000)\n",
      "Order              : C\n",
      "Read-only          : False\n",
      "Compressor         : Blosc(cname='lz4', clevel=5, shuffle=BITSHUFFLE,\n",
      "                   : blocksize=0)\n",
      "Store type         : zarr.storage.DirectoryStore\n",
      "No. bytes          : 255014400 (243.2M)\n",
      "No. bytes stored   : 96038826 (91.6M)\n",
      "Storage ratio      : 2.7\n",
      "Chunks initialized : 80/80\n",
      "\n"
     ]
    },
    {
     "data": {
      "text/plain": [
       "(None, None)"
      ]
     },
     "execution_count": 8,
     "metadata": {},
     "output_type": "execute_result"
    },
    {
     "name": "stdout",
     "output_type": "stream",
     "text": [
      "time: 12.4 ms (started: 2024-08-28 20:09:49 +05:30)\n"
     ]
    }
   ],
   "source": [
    "print(new_zarr.info), print(new_zarr_count.info)"
   ]
  },
  {
   "cell_type": "code",
   "execution_count": 9,
   "metadata": {},
   "outputs": [
    {
     "name": "stdout",
     "output_type": "stream",
     "text": [
      "time: 317 μs (started: 2024-08-28 20:09:50 +05:30)\n"
     ]
    }
   ],
   "source": [
    "assert orginal_zarr_count.nchunks == new_zarr_count.nchunks"
   ]
  },
  {
   "cell_type": "code",
   "execution_count": 10,
   "metadata": {},
   "outputs": [
    {
     "name": "stdout",
     "output_type": "stream",
     "text": [
      "time: 238 μs (started: 2024-08-28 20:09:50 +05:30)\n"
     ]
    }
   ],
   "source": [
    "assert orginal_zarr_count.shape == new_zarr_count.shape"
   ]
  },
  {
   "cell_type": "code",
   "execution_count": 11,
   "metadata": {},
   "outputs": [
    {
     "name": "stdout",
     "output_type": "stream",
     "text": [
      "time: 311 μs (started: 2024-08-28 20:09:51 +05:30)\n"
     ]
    }
   ],
   "source": [
    "assert orginal_zarr_count.chunks == new_zarr_count.chunks"
   ]
  },
  {
   "cell_type": "code",
   "execution_count": 12,
   "metadata": {},
   "outputs": [
    {
     "name": "stdout",
     "output_type": "stream",
     "text": [
      "time: 274 μs (started: 2024-08-28 20:09:51 +05:30)\n"
     ]
    }
   ],
   "source": [
    "chunks = math.ceil(orginal_zarr_count.shape[0] / orginal_zarr_count.chunks[0])"
   ]
  },
  {
   "cell_type": "code",
   "execution_count": 13,
   "metadata": {},
   "outputs": [
    {
     "name": "stdout",
     "output_type": "stream",
     "text": [
      "All checks passed! for chunk 0\n",
      "All checks passed! for chunk 1\n",
      "time: 1.33 s (started: 2024-08-28 20:09:52 +05:30)\n"
     ]
    }
   ],
   "source": [
    "for chunk in range(chunks):\n",
    "    org_data = orginal_zarr_count.get_block_selection(chunk)\n",
    "    new_data = new_zarr_count.get_block_selection(chunk)\n",
    "    # sums check\n",
    "    assert np.sum(org_data) == np.sum(new_data)\n",
    "    # shape check\n",
    "    assert org_data.shape == new_data.shape\n",
    "    # chunk check\n",
    "    assert np.array_equal(org_data, new_data)\n",
    "    print(f'All checks passed! for chunk {chunk}')"
   ]
  },
  {
   "cell_type": "code",
   "execution_count": 14,
   "metadata": {},
   "outputs": [
    {
     "data": {
      "text/plain": [
       "array([[     0,      0,      0, ...,      0,      0,      0],\n",
       "       [172867,      0,      0, ...,      0,      0,      0],\n",
       "       [     0,      0,      0, ...,      0,      0,      0],\n",
       "       ...,\n",
       "       [311225,      0,      0, ...,      0,      0,      0],\n",
       "       [     0, 474664,      0, ...,      0,      0,      0],\n",
       "       [  5788,      0,      0, ...,      0,      0,      0]],\n",
       "      dtype=uint32)"
      ]
     },
     "execution_count": 14,
     "metadata": {},
     "output_type": "execute_result"
    },
    {
     "name": "stdout",
     "output_type": "stream",
     "text": [
      "time: 3.55 ms (started: 2024-08-28 20:09:55 +05:30)\n"
     ]
    }
   ],
   "source": [
    "org_data[...]"
   ]
  },
  {
   "cell_type": "code",
   "execution_count": 15,
   "metadata": {},
   "outputs": [
    {
     "data": {
      "text/plain": [
       "array([[     0,      0,      0, ...,      0,      0,      0],\n",
       "       [172867,      0,      0, ...,      0,      0,      0],\n",
       "       [     0,      0,      0, ...,      0,      0,      0],\n",
       "       ...,\n",
       "       [311225,      0,      0, ...,      0,      0,      0],\n",
       "       [     0, 474664,      0, ...,      0,      0,      0],\n",
       "       [  5788,      0,      0, ...,      0,      0,      0]],\n",
       "      dtype=uint32)"
      ]
     },
     "execution_count": 15,
     "metadata": {},
     "output_type": "execute_result"
    },
    {
     "name": "stdout",
     "output_type": "stream",
     "text": [
      "time: 2.91 ms (started: 2024-08-28 20:09:56 +05:30)\n"
     ]
    }
   ],
   "source": [
    "new_data[...]"
   ]
  },
  {
   "cell_type": "markdown",
   "metadata": {},
   "source": [
    "# 10X Genomics Dataset\n",
    "### Compare Filtering in HDF5 and MEX formats"
   ]
  },
  {
   "cell_type": "markdown",
   "metadata": {},
   "source": [
    "# 1 Modality"
   ]
  },
  {
   "cell_type": "code",
   "execution_count": 42,
   "metadata": {},
   "outputs": [
    {
     "name": "stdout",
     "output_type": "stream",
     "text": [
      "time: 426 μs (started: 2024-08-28 20:18:35 +05:30)\n"
     ]
    }
   ],
   "source": [
    "h5_path = '../../scarf/scarf/test_data/10k_Mouse_Neurons_3p_nextgem_Multiplex_count_raw_feature_bc_matrix.h5'\n",
    "mex_path = '../../scarf/scarf/test_data/10k_Mouse_Neurons_3p_nextgem_Multiplex_count_raw_feature_bc_matrix/raw_feature_bc_matrix'"
   ]
  },
  {
   "cell_type": "code",
   "execution_count": 17,
   "metadata": {},
   "outputs": [
    {
     "data": {
      "application/vnd.jupyter.widget-view+json": {
       "model_id": "bb040aba63d14496aed0cf1b97edb470",
       "version_major": 2,
       "version_minor": 0
      },
      "text/plain": [
       "Filtering out background barcodes:   0%|                                                                      …"
      ]
     },
     "metadata": {},
     "output_type": "display_data"
    },
    {
     "name": "stdout",
     "output_type": "stream",
     "text": [
      "time: 6.81 s (started: 2024-08-28 20:10:04 +05:30)\n"
     ]
    }
   ],
   "source": [
    "h5_reader = scarf.CrH5Reader(h5_path, is_filtered=False)\n",
    "h5_writer = scarf.CrToZarr(h5_reader, '../../tmp/h5_10k_Mouse_Neurons_3p_nextgem_Multiplex_count_raw_feature_bc_matrix.zarr')"
   ]
  },
  {
   "cell_type": "code",
   "execution_count": 18,
   "metadata": {},
   "outputs": [
    {
     "data": {
      "application/vnd.jupyter.widget-view+json": {
       "model_id": "474ab31d51024401aaea8816e4fb163e",
       "version_major": 2,
       "version_minor": 0
      },
      "text/plain": [
       "  0%|                                                                                                         …"
      ]
     },
     "metadata": {},
     "output_type": "display_data"
    },
    {
     "name": "stdout",
     "output_type": "stream",
     "text": [
      "time: 3.83 s (started: 2024-08-28 20:10:16 +05:30)\n"
     ]
    }
   ],
   "source": [
    "h5_writer.dump()"
   ]
  },
  {
   "cell_type": "code",
   "execution_count": 43,
   "metadata": {},
   "outputs": [
    {
     "data": {
      "application/vnd.jupyter.widget-view+json": {
       "model_id": "d72e96e6c7bd44b5a653352fe35abb6c",
       "version_major": 2,
       "version_minor": 0
      },
      "text/plain": [
       "Filtering out background barcodes:   0%|                                                                      …"
      ]
     },
     "metadata": {},
     "output_type": "display_data"
    },
    {
     "name": "stdout",
     "output_type": "stream",
     "text": [
      "time: 11 s (started: 2024-08-28 20:18:39 +05:30)\n"
     ]
    }
   ],
   "source": [
    "mex_reader = scarf.CrDirReader(mex_path, is_filtered=False)\n",
    "mex_writer = scarf.CrToZarr(mex_reader, '../../tmp/mex_10k_Mouse_Neurons_3p_nextgem_Multiplex_count_raw_feature_bc_matrix.zarr')"
   ]
  },
  {
   "cell_type": "code",
   "execution_count": 44,
   "metadata": {},
   "outputs": [
    {
     "data": {
      "application/vnd.jupyter.widget-view+json": {
       "model_id": "6a4a3ee6b78b411dafbd47f265547489",
       "version_major": 2,
       "version_minor": 0
      },
      "text/plain": [
       "  0%|                                                                                                         …"
      ]
     },
     "metadata": {},
     "output_type": "display_data"
    },
    {
     "name": "stdout",
     "output_type": "stream",
     "text": [
      "time: 10.9 s (started: 2024-08-28 20:18:55 +05:30)\n"
     ]
    }
   ],
   "source": [
    "mex_writer.dump()"
   ]
  },
  {
   "cell_type": "code",
   "execution_count": 45,
   "metadata": {},
   "outputs": [
    {
     "name": "stdout",
     "output_type": "stream",
     "text": [
      "time: 5.18 ms (started: 2024-08-28 20:19:07 +05:30)\n"
     ]
    }
   ],
   "source": [
    "# Check\n",
    "h5_zarr = zarr.open('../../tmp/h5_10k_Mouse_Neurons_3p_nextgem_Multiplex_count_raw_feature_bc_matrix.zarr')\n",
    "h5_zarr_count = h5_zarr['RNA/counts']\n",
    "mex_zarr = zarr.open('../../tmp/mex_10k_Mouse_Neurons_3p_nextgem_Multiplex_count_raw_feature_bc_matrix.zarr')\n",
    "mex_zarr_count = mex_zarr['RNA/counts']"
   ]
  },
  {
   "cell_type": "code",
   "execution_count": 23,
   "metadata": {},
   "outputs": [
    {
     "name": "stdout",
     "output_type": "stream",
     "text": [
      "nChunks check\n",
      "Shape check\n",
      "Chunks check\n",
      "time: 747 μs (started: 2024-08-28 20:11:02 +05:30)\n"
     ]
    }
   ],
   "source": [
    "print(\"nChunks check\")\n",
    "assert h5_zarr_count.nchunks == mex_zarr_count.nchunks\n",
    "print(\"Shape check\")\n",
    "assert h5_zarr_count.shape == mex_zarr_count.shape\n",
    "print(\"Chunks check\")\n",
    "assert h5_zarr_count.chunks == mex_zarr_count.chunks"
   ]
  },
  {
   "cell_type": "code",
   "execution_count": 24,
   "metadata": {},
   "outputs": [
    {
     "name": "stdout",
     "output_type": "stream",
     "text": [
      "time: 252 μs (started: 2024-08-28 20:11:02 +05:30)\n"
     ]
    }
   ],
   "source": [
    "chunks = math.ceil(h5_zarr_count.shape[0] / h5_zarr_count.chunks[0])"
   ]
  },
  {
   "cell_type": "code",
   "execution_count": 27,
   "metadata": {},
   "outputs": [
    {
     "name": "stdout",
     "output_type": "stream",
     "text": [
      "All checks passed! for chunk 0\n",
      "All checks passed! for chunk 1\n",
      "All checks passed! for chunk 2\n",
      "All checks passed! for chunk 3\n",
      "All checks passed! for chunk 4\n",
      "All checks passed! for chunk 5\n",
      "All checks passed! for chunk 6\n",
      "All checks passed! for chunk 7\n",
      "All checks passed! for chunk 8\n",
      "All checks passed! for chunk 9\n",
      "All checks passed! for chunk 10\n",
      "time: 2.28 s (started: 2024-08-28 20:12:01 +05:30)\n"
     ]
    }
   ],
   "source": [
    "for chunk in range(chunks):\n",
    "    h5_data = h5_zarr_count.get_block_selection(chunk)\n",
    "    mex_data = mex_zarr_count.get_block_selection(chunk)\n",
    "    # sums check\n",
    "    assert np.sum(h5_data) == np.sum(mex_data)\n",
    "    # shape check\n",
    "    assert h5_data.shape == mex_data.shape\n",
    "    # chunk check\n",
    "    assert np.array_equal(h5_data, mex_data)\n",
    "    print(f'All checks passed! for chunk {chunk}')"
   ]
  },
  {
   "cell_type": "code",
   "execution_count": 28,
   "metadata": {},
   "outputs": [
    {
     "data": {
      "text/plain": [
       "array([[1, 0, 0, ..., 0, 0, 3],\n",
       "       [0, 0, 0, ..., 0, 0, 2],\n",
       "       [0, 0, 0, ..., 0, 0, 1],\n",
       "       ...,\n",
       "       [0, 0, 0, ..., 0, 0, 1],\n",
       "       [0, 0, 0, ..., 0, 0, 0],\n",
       "       [0, 0, 0, ..., 0, 0, 0]], dtype=uint32)"
      ]
     },
     "execution_count": 28,
     "metadata": {},
     "output_type": "execute_result"
    },
    {
     "name": "stdout",
     "output_type": "stream",
     "text": [
      "time: 3.96 ms (started: 2024-08-28 20:12:10 +05:30)\n"
     ]
    }
   ],
   "source": [
    "h5_data[...]"
   ]
  },
  {
   "cell_type": "code",
   "execution_count": 29,
   "metadata": {},
   "outputs": [
    {
     "data": {
      "text/plain": [
       "array([[1, 0, 0, ..., 0, 0, 3],\n",
       "       [0, 0, 0, ..., 0, 0, 2],\n",
       "       [0, 0, 0, ..., 0, 0, 1],\n",
       "       ...,\n",
       "       [0, 0, 0, ..., 0, 0, 1],\n",
       "       [0, 0, 0, ..., 0, 0, 0],\n",
       "       [0, 0, 0, ..., 0, 0, 0]], dtype=uint32)"
      ]
     },
     "execution_count": 29,
     "metadata": {},
     "output_type": "execute_result"
    },
    {
     "name": "stdout",
     "output_type": "stream",
     "text": [
      "time: 3.93 ms (started: 2024-08-28 20:12:14 +05:30)\n"
     ]
    }
   ],
   "source": [
    "mex_data[...]"
   ]
  },
  {
   "cell_type": "markdown",
   "metadata": {},
   "source": [
    "# 2 Modalities"
   ]
  },
  {
   "cell_type": "code",
   "execution_count": 30,
   "metadata": {},
   "outputs": [
    {
     "name": "stdout",
     "output_type": "stream",
     "text": [
      "time: 357 μs (started: 2024-08-28 20:12:17 +05:30)\n"
     ]
    }
   ],
   "source": [
    "h5_path = '../../scarf/scarf/test_data/10k_Human_PBMC_TotalSeqB_3p_gemx_Multiplex_count_raw_feature_bc_matrix.h5'\n",
    "mex_path = '../../scarf/scarf/test_data/10k_Human_PBMC_TotalSeqB_3p_gemx_Multiplex_count_raw_feature_bc_matrix/raw_feature_bc_matrix'"
   ]
  },
  {
   "cell_type": "code",
   "execution_count": 31,
   "metadata": {},
   "outputs": [
    {
     "data": {
      "application/vnd.jupyter.widget-view+json": {
       "model_id": "9125cb65c1f64f5e95636b3c6cbef688",
       "version_major": 2,
       "version_minor": 0
      },
      "text/plain": [
       "Filtering out background barcodes:   0%|                                                                      …"
      ]
     },
     "metadata": {},
     "output_type": "display_data"
    },
    {
     "data": {
      "application/vnd.jupyter.widget-view+json": {
       "model_id": "60d1000f7c614022b68fb01009f29ffc",
       "version_major": 2,
       "version_minor": 0
      },
      "text/plain": [
       "  0%|                                                                                                         …"
      ]
     },
     "metadata": {},
     "output_type": "display_data"
    },
    {
     "name": "stdout",
     "output_type": "stream",
     "text": [
      "time: 18.5 s (started: 2024-08-28 20:12:17 +05:30)\n"
     ]
    }
   ],
   "source": [
    "h5_reader = scarf.CrH5Reader(h5_path, is_filtered=False)\n",
    "h5_writer = scarf.CrToZarr(h5_reader, '../../tmp/h5_10k_Human_PBMC_TotalSeqB_3p_gemx_Multiplex_count_raw_feature_bc_matrix.zarr')\n",
    "h5_writer.dump()"
   ]
  },
  {
   "cell_type": "code",
   "execution_count": 32,
   "metadata": {},
   "outputs": [
    {
     "data": {
      "application/vnd.jupyter.widget-view+json": {
       "model_id": "ba626bc363f046b596101f36fc39612a",
       "version_major": 2,
       "version_minor": 0
      },
      "text/plain": [
       "Filtering out background barcodes:   0%|                                                                      …"
      ]
     },
     "metadata": {},
     "output_type": "display_data"
    },
    {
     "data": {
      "application/vnd.jupyter.widget-view+json": {
       "model_id": "bd0870d054cf40719a785c3e9f7138ae",
       "version_major": 2,
       "version_minor": 0
      },
      "text/plain": [
       "  0%|                                                                                                         …"
      ]
     },
     "metadata": {},
     "output_type": "display_data"
    },
    {
     "name": "stdout",
     "output_type": "stream",
     "text": [
      "time: 47.8 s (started: 2024-08-28 20:12:36 +05:30)\n"
     ]
    }
   ],
   "source": [
    "mex_reader = scarf.CrDirReader(mex_path, is_filtered=False)\n",
    "mex_writer = scarf.CrToZarr(mex_reader, '../../tmp/mex_10k_Human_PBMC_TotalSeqB_3p_gemx_Multiplex_count_raw_feature_bc_matrix.zarr')\n",
    "mex_writer.dump()"
   ]
  },
  {
   "cell_type": "code",
   "execution_count": 33,
   "metadata": {},
   "outputs": [
    {
     "name": "stdout",
     "output_type": "stream",
     "text": [
      "time: 4.2 ms (started: 2024-08-28 20:13:24 +05:30)\n"
     ]
    }
   ],
   "source": [
    "# Check\n",
    "h5_zarr = zarr.open('../../tmp/h5_10k_Human_PBMC_TotalSeqB_3p_gemx_Multiplex_count_raw_feature_bc_matrix.zarr')\n",
    "h5_zarr_count = h5_zarr['RNA/counts']\n",
    "mex_zarr = zarr.open('../../tmp/mex_10k_Human_PBMC_TotalSeqB_3p_gemx_Multiplex_count_raw_feature_bc_matrix.zarr')\n",
    "mex_zarr_count = mex_zarr['RNA/counts']"
   ]
  },
  {
   "cell_type": "code",
   "execution_count": 34,
   "metadata": {},
   "outputs": [
    {
     "name": "stdout",
     "output_type": "stream",
     "text": [
      "nChunks check\n",
      "Shape check\n",
      "Chunks check\n",
      "time: 765 μs (started: 2024-08-28 20:13:24 +05:30)\n"
     ]
    }
   ],
   "source": [
    "print(\"nChunks check\")\n",
    "assert h5_zarr_count.nchunks == mex_zarr_count.nchunks\n",
    "print(\"Shape check\")\n",
    "assert h5_zarr_count.shape == mex_zarr_count.shape\n",
    "print(\"Chunks check\")\n",
    "assert h5_zarr_count.chunks == mex_zarr_count.chunks"
   ]
  },
  {
   "cell_type": "code",
   "execution_count": 35,
   "metadata": {},
   "outputs": [
    {
     "name": "stdout",
     "output_type": "stream",
     "text": [
      "time: 694 μs (started: 2024-08-28 20:13:24 +05:30)\n"
     ]
    }
   ],
   "source": [
    "nchunks = math.ceil(h5_zarr_count.shape[0] / h5_zarr_count.chunks[0])"
   ]
  },
  {
   "cell_type": "code",
   "execution_count": 36,
   "metadata": {},
   "outputs": [
    {
     "name": "stdout",
     "output_type": "stream",
     "text": [
      "All checks passed! for chunk 0\n",
      "All checks passed! for chunk 1\n",
      "All checks passed! for chunk 2\n",
      "All checks passed! for chunk 3\n",
      "All checks passed! for chunk 4\n",
      "All checks passed! for chunk 5\n",
      "All checks passed! for chunk 6\n",
      "All checks passed! for chunk 7\n",
      "All checks passed! for chunk 8\n",
      "All checks passed! for chunk 9\n",
      "All checks passed! for chunk 10\n",
      "time: 3.77 s (started: 2024-08-28 20:13:24 +05:30)\n"
     ]
    }
   ],
   "source": [
    "for chunk in range(nchunks):\n",
    "    h5_data = h5_zarr_count.get_block_selection(chunk)\n",
    "    mex_data = mex_zarr_count.get_block_selection(chunk)\n",
    "    # sums check\n",
    "    assert np.sum(h5_data) == np.sum(mex_data)\n",
    "    # shape check\n",
    "    assert h5_data.shape == mex_data.shape\n",
    "    # chunk check\n",
    "    assert np.array_equal(h5_data, mex_data)\n",
    "    print(f'All checks passed! for chunk {chunk}')"
   ]
  },
  {
   "cell_type": "markdown",
   "metadata": {},
   "source": [
    "# Different Filtering Cutoff"
   ]
  },
  {
   "cell_type": "code",
   "execution_count": 37,
   "metadata": {},
   "outputs": [
    {
     "name": "stdout",
     "output_type": "stream",
     "text": [
      "time: 2.29 ms (started: 2024-08-28 20:13:28 +05:30)\n"
     ]
    }
   ],
   "source": [
    "def make_test(h5_path, mex_path, h5_save_path, mex_save_path, filter_cut):\n",
    "    print(\"Processing HDF5\")\n",
    "    h5_reader = scarf.CrH5Reader(h5_path, is_filtered=False, filtering_cutoff=filter_cut)\n",
    "    h5_writer = scarf.CrToZarr(h5_reader, h5_save_path)\n",
    "    h5_writer.dump()\n",
    "\n",
    "    print(\"Processing MEX\")\n",
    "    mex_reader = scarf.CrDirReader(mex_path, is_filtered=False, filtering_cutoff=filter_cut)\n",
    "    mex_writer = scarf.CrToZarr(mex_reader, mex_save_path)\n",
    "    mex_writer.dump()\n",
    "\n",
    "    h5_zarr = zarr.open(h5_save_path)\n",
    "    h5_zarr_count = h5_zarr['RNA/counts']\n",
    "    mex_zarr = zarr.open(mex_save_path)\n",
    "    mex_zarr_count = mex_zarr['RNA/counts']\n",
    "\n",
    "    print(\"nChunks check\")\n",
    "    assert h5_zarr_count.nchunks == mex_zarr_count.nchunks\n",
    "    print(\"Shape check\")\n",
    "    assert h5_zarr_count.shape == mex_zarr_count.shape\n",
    "    print(\"Chunks check\")\n",
    "    assert h5_zarr_count.chunks == mex_zarr_count.chunks\n",
    "\n",
    "    chunks = math.ceil(h5_zarr_count.shape[0] / h5_zarr_count.chunks[0])\n",
    "    for chunk in range(chunks):\n",
    "        h5_data = h5_zarr_count.get_block_selection(chunk)\n",
    "        mex_data = mex_zarr_count.get_block_selection(chunk)\n",
    "        # sums check\n",
    "        assert np.sum(h5_data) == np.sum(mex_data)\n",
    "        # shape check\n",
    "        assert h5_data.shape == mex_data.shape\n",
    "        # chunk check\n",
    "        assert np.array_equal(h5_data, mex_data)\n",
    "        print(f'All checks passed! for chunk {chunk}')"
   ]
  },
  {
   "cell_type": "code",
   "execution_count": 38,
   "metadata": {},
   "outputs": [
    {
     "name": "stdout",
     "output_type": "stream",
     "text": [
      "Processing HDF5\n"
     ]
    },
    {
     "data": {
      "application/vnd.jupyter.widget-view+json": {
       "model_id": "aff5a17176db423ca16a82bebccc7c96",
       "version_major": 2,
       "version_minor": 0
      },
      "text/plain": [
       "Filtering out background barcodes:   0%|                                                                      …"
      ]
     },
     "metadata": {},
     "output_type": "display_data"
    },
    {
     "data": {
      "application/vnd.jupyter.widget-view+json": {
       "model_id": "f3c3a0a395d74cddb8d727b05b8ab3a6",
       "version_major": 2,
       "version_minor": 0
      },
      "text/plain": [
       "  0%|                                                                                                         …"
      ]
     },
     "metadata": {},
     "output_type": "display_data"
    },
    {
     "name": "stdout",
     "output_type": "stream",
     "text": [
      "Processing MEX\n"
     ]
    },
    {
     "data": {
      "application/vnd.jupyter.widget-view+json": {
       "model_id": "63ef13c587d14f2ebffc315fdae9fc6a",
       "version_major": 2,
       "version_minor": 0
      },
      "text/plain": [
       "Filtering out background barcodes:   0%|                                                                      …"
      ]
     },
     "metadata": {},
     "output_type": "display_data"
    },
    {
     "data": {
      "application/vnd.jupyter.widget-view+json": {
       "model_id": "5cbdc90cb5794c8aa66c896ff3ae2cf1",
       "version_major": 2,
       "version_minor": 0
      },
      "text/plain": [
       "  0%|                                                                                                         …"
      ]
     },
     "metadata": {},
     "output_type": "display_data"
    },
    {
     "name": "stdout",
     "output_type": "stream",
     "text": [
      "nChunks check\n",
      "Shape check\n",
      "Chunks check\n",
      "All checks passed! for chunk 0\n",
      "All checks passed! for chunk 1\n",
      "All checks passed! for chunk 2\n",
      "All checks passed! for chunk 3\n",
      "All checks passed! for chunk 4\n",
      "All checks passed! for chunk 5\n",
      "All checks passed! for chunk 6\n",
      "All checks passed! for chunk 7\n",
      "All checks passed! for chunk 8\n",
      "All checks passed! for chunk 9\n",
      "All checks passed! for chunk 10\n",
      "All checks passed! for chunk 11\n",
      "All checks passed! for chunk 12\n",
      "All checks passed! for chunk 13\n",
      "All checks passed! for chunk 14\n",
      "All checks passed! for chunk 15\n",
      "All checks passed! for chunk 16\n",
      "All checks passed! for chunk 17\n",
      "All checks passed! for chunk 18\n",
      "All checks passed! for chunk 19\n",
      "All checks passed! for chunk 20\n",
      "All checks passed! for chunk 21\n",
      "All checks passed! for chunk 22\n",
      "All checks passed! for chunk 23\n",
      "All checks passed! for chunk 24\n",
      "All checks passed! for chunk 25\n",
      "All checks passed! for chunk 26\n",
      "All checks passed! for chunk 27\n",
      "All checks passed! for chunk 28\n",
      "All checks passed! for chunk 29\n",
      "All checks passed! for chunk 30\n",
      "All checks passed! for chunk 31\n",
      "All checks passed! for chunk 32\n",
      "All checks passed! for chunk 33\n",
      "All checks passed! for chunk 34\n",
      "All checks passed! for chunk 35\n",
      "All checks passed! for chunk 36\n",
      "All checks passed! for chunk 37\n",
      "All checks passed! for chunk 38\n",
      "All checks passed! for chunk 39\n",
      "All checks passed! for chunk 40\n",
      "All checks passed! for chunk 41\n",
      "All checks passed! for chunk 42\n",
      "time: 58 s (started: 2024-08-28 20:13:28 +05:30)\n"
     ]
    }
   ],
   "source": [
    "h5_path = '../../scarf/scarf/test_data/10k_Mouse_Neurons_3p_nextgem_Multiplex_count_raw_feature_bc_matrix.h5'\n",
    "mex_path = '../../scarf/scarf/test_data/10k_Mouse_Neurons_3p_nextgem_Multiplex_count_raw_feature_bc_matrix/raw_feature_bc_matrix'\n",
    "\n",
    "h5_save_path = '../../tmp/h5_100_10k_Mouse_Neurons_3p_nextgem_Multiplex_count_raw_feature_bc_matrix.zarr'\n",
    "mex_save_path = '../../tmp/mex_100_10k_Mouse_Neurons_3p_nextgem_Multiplex_count_raw_feature_bc_matrix.zarr'\n",
    "\n",
    "make_test(h5_path, mex_path, h5_save_path, mex_save_path, 100)"
   ]
  },
  {
   "cell_type": "code",
   "execution_count": 39,
   "metadata": {},
   "outputs": [
    {
     "name": "stdout",
     "output_type": "stream",
     "text": [
      "Processing HDF5\n"
     ]
    },
    {
     "data": {
      "application/vnd.jupyter.widget-view+json": {
       "model_id": "80cd65df637840fda1ab9311135b0a70",
       "version_major": 2,
       "version_minor": 0
      },
      "text/plain": [
       "Filtering out background barcodes:   0%|                                                                      …"
      ]
     },
     "metadata": {},
     "output_type": "display_data"
    },
    {
     "data": {
      "application/vnd.jupyter.widget-view+json": {
       "model_id": "86a6c4bac198448ead9a9da0d106c424",
       "version_major": 2,
       "version_minor": 0
      },
      "text/plain": [
       "  0%|                                                                                                         …"
      ]
     },
     "metadata": {},
     "output_type": "display_data"
    },
    {
     "name": "stdout",
     "output_type": "stream",
     "text": [
      "Processing MEX\n"
     ]
    },
    {
     "data": {
      "application/vnd.jupyter.widget-view+json": {
       "model_id": "6f346e8076a844938cbe162470f74519",
       "version_major": 2,
       "version_minor": 0
      },
      "text/plain": [
       "Filtering out background barcodes:   0%|                                                                      …"
      ]
     },
     "metadata": {},
     "output_type": "display_data"
    },
    {
     "data": {
      "application/vnd.jupyter.widget-view+json": {
       "model_id": "f6af01c65006493cbca375e57e483a3d",
       "version_major": 2,
       "version_minor": 0
      },
      "text/plain": [
       "  0%|                                                                                                         …"
      ]
     },
     "metadata": {},
     "output_type": "display_data"
    },
    {
     "name": "stdout",
     "output_type": "stream",
     "text": [
      "nChunks check\n",
      "Shape check\n",
      "Chunks check\n",
      "All checks passed! for chunk 0\n",
      "All checks passed! for chunk 1\n",
      "All checks passed! for chunk 2\n",
      "time: 31.6 s (started: 2024-08-28 20:14:26 +05:30)\n"
     ]
    }
   ],
   "source": [
    "h5_path = '../../scarf/scarf/test_data/10k_Mouse_Neurons_3p_nextgem_Multiplex_count_raw_feature_bc_matrix.h5'\n",
    "mex_path = '../../scarf/scarf/test_data/10k_Mouse_Neurons_3p_nextgem_Multiplex_count_raw_feature_bc_matrix/raw_feature_bc_matrix'\n",
    "\n",
    "h5_save_path = '../../tmp/h5_10000_10k_Mouse_Neurons_3p_nextgem_Multiplex_count_raw_feature_bc_matrix.zarr'\n",
    "mex_save_path = '../../tmp/mex_10000_10k_Mouse_Neurons_3p_nextgem_Multiplex_count_raw_feature_bc_matrix.zarr'\n",
    "\n",
    "make_test(h5_path, mex_path, h5_save_path, mex_save_path, 10000)"
   ]
  },
  {
   "cell_type": "markdown",
   "metadata": {},
   "source": [
    "Multimodal"
   ]
  },
  {
   "cell_type": "code",
   "execution_count": 40,
   "metadata": {},
   "outputs": [
    {
     "name": "stdout",
     "output_type": "stream",
     "text": [
      "Processing HDF5\n"
     ]
    },
    {
     "data": {
      "application/vnd.jupyter.widget-view+json": {
       "model_id": "b6c70285d5f441d5ba23940e9c12e374",
       "version_major": 2,
       "version_minor": 0
      },
      "text/plain": [
       "Filtering out background barcodes:   0%|                                                                      …"
      ]
     },
     "metadata": {},
     "output_type": "display_data"
    },
    {
     "data": {
      "application/vnd.jupyter.widget-view+json": {
       "model_id": "7994129f125f47088c4619f9e6e0e8e7",
       "version_major": 2,
       "version_minor": 0
      },
      "text/plain": [
       "  0%|                                                                                                         …"
      ]
     },
     "metadata": {},
     "output_type": "display_data"
    },
    {
     "name": "stdout",
     "output_type": "stream",
     "text": [
      "Processing MEX\n"
     ]
    },
    {
     "data": {
      "application/vnd.jupyter.widget-view+json": {
       "model_id": "fcb541e4ea914d709b5aacb08a2dc054",
       "version_major": 2,
       "version_minor": 0
      },
      "text/plain": [
       "Filtering out background barcodes:   0%|                                                                      …"
      ]
     },
     "metadata": {},
     "output_type": "display_data"
    },
    {
     "data": {
      "application/vnd.jupyter.widget-view+json": {
       "model_id": "d32066f3443248ce80339a01765a6abd",
       "version_major": 2,
       "version_minor": 0
      },
      "text/plain": [
       "  0%|                                                                                                         …"
      ]
     },
     "metadata": {},
     "output_type": "display_data"
    },
    {
     "name": "stdout",
     "output_type": "stream",
     "text": [
      "nChunks check\n",
      "Shape check\n",
      "Chunks check\n",
      "All checks passed! for chunk 0\n",
      "All checks passed! for chunk 1\n",
      "All checks passed! for chunk 2\n",
      "All checks passed! for chunk 3\n",
      "All checks passed! for chunk 4\n",
      "All checks passed! for chunk 5\n",
      "All checks passed! for chunk 6\n",
      "All checks passed! for chunk 7\n",
      "All checks passed! for chunk 8\n",
      "All checks passed! for chunk 9\n",
      "All checks passed! for chunk 10\n",
      "All checks passed! for chunk 11\n",
      "All checks passed! for chunk 12\n",
      "All checks passed! for chunk 13\n",
      "All checks passed! for chunk 14\n",
      "All checks passed! for chunk 15\n",
      "All checks passed! for chunk 16\n",
      "All checks passed! for chunk 17\n",
      "All checks passed! for chunk 18\n",
      "All checks passed! for chunk 19\n",
      "All checks passed! for chunk 20\n",
      "All checks passed! for chunk 21\n",
      "All checks passed! for chunk 22\n",
      "All checks passed! for chunk 23\n",
      "All checks passed! for chunk 24\n",
      "All checks passed! for chunk 25\n",
      "All checks passed! for chunk 26\n",
      "time: 1min 10s (started: 2024-08-28 20:14:57 +05:30)\n"
     ]
    }
   ],
   "source": [
    "h5_path = '../../scarf/scarf/test_data/10k_Human_PBMC_TotalSeqB_3p_gemx_Multiplex_count_raw_feature_bc_matrix.h5'\n",
    "mex_path = '../../scarf/scarf/test_data/10k_Human_PBMC_TotalSeqB_3p_gemx_Multiplex_count_raw_feature_bc_matrix/raw_feature_bc_matrix'\n",
    "\n",
    "h5_save_path = '../../tmp/h5_100_10k_Human_PBMC_TotalSeqB_3p_gemx_Multiplex_count_raw_feature_bc_matrix.zarr'\n",
    "mex_save_path = '../../tmp/mex_100_10k_Human_PBMC_TotalSeqB_3p_gemx_Multiplex_count_raw_feature_bc_matrix.zarr'\n",
    "\n",
    "make_test(h5_path, mex_path, h5_save_path, mex_save_path, 100)"
   ]
  },
  {
   "cell_type": "code",
   "execution_count": 41,
   "metadata": {},
   "outputs": [
    {
     "name": "stdout",
     "output_type": "stream",
     "text": [
      "Processing HDF5\n"
     ]
    },
    {
     "data": {
      "application/vnd.jupyter.widget-view+json": {
       "model_id": "7bf16c636dc04d4e9931804f5a6e1d2a",
       "version_major": 2,
       "version_minor": 0
      },
      "text/plain": [
       "Filtering out background barcodes:   0%|                                                                      …"
      ]
     },
     "metadata": {},
     "output_type": "display_data"
    },
    {
     "data": {
      "application/vnd.jupyter.widget-view+json": {
       "model_id": "b70ed1b00dd149c5ae13d1bf604471f0",
       "version_major": 2,
       "version_minor": 0
      },
      "text/plain": [
       "  0%|                                                                                                         …"
      ]
     },
     "metadata": {},
     "output_type": "display_data"
    },
    {
     "name": "stdout",
     "output_type": "stream",
     "text": [
      "Processing MEX\n"
     ]
    },
    {
     "data": {
      "application/vnd.jupyter.widget-view+json": {
       "model_id": "3ad5d33737d240ca8f17a6e93db1cdd4",
       "version_major": 2,
       "version_minor": 0
      },
      "text/plain": [
       "Filtering out background barcodes:   0%|                                                                      …"
      ]
     },
     "metadata": {},
     "output_type": "display_data"
    },
    {
     "data": {
      "application/vnd.jupyter.widget-view+json": {
       "model_id": "24172bd2d9cb4e7abc5760eca36d7226",
       "version_major": 2,
       "version_minor": 0
      },
      "text/plain": [
       "  0%|                                                                                                         …"
      ]
     },
     "metadata": {},
     "output_type": "display_data"
    },
    {
     "name": "stdout",
     "output_type": "stream",
     "text": [
      "nChunks check\n",
      "Shape check\n",
      "Chunks check\n",
      "All checks passed! for chunk 0\n",
      "All checks passed! for chunk 1\n",
      "All checks passed! for chunk 2\n",
      "All checks passed! for chunk 3\n",
      "All checks passed! for chunk 4\n",
      "All checks passed! for chunk 5\n",
      "All checks passed! for chunk 6\n",
      "All checks passed! for chunk 7\n",
      "All checks passed! for chunk 8\n",
      "All checks passed! for chunk 9\n",
      "time: 58.1 s (started: 2024-08-28 20:16:08 +05:30)\n"
     ]
    }
   ],
   "source": [
    "h5_path = '../../scarf/scarf/test_data/10k_Human_PBMC_TotalSeqB_3p_gemx_Multiplex_count_raw_feature_bc_matrix.h5'\n",
    "mex_path = '../../scarf/scarf/test_data/10k_Human_PBMC_TotalSeqB_3p_gemx_Multiplex_count_raw_feature_bc_matrix/raw_feature_bc_matrix'\n",
    "\n",
    "h5_save_path = '../../tmp/h5_10000_10k_Human_PBMC_TotalSeqB_3p_gemx_Multiplex_count_raw_feature_bc_matrix.zarr'\n",
    "mex_save_path = '../../tmp/mex_10000_10k_Human_PBMC_TotalSeqB_3p_gemx_Multiplex_count_raw_feature_bc_matrix.zarr'\n",
    "\n",
    "make_test(h5_path, mex_path, h5_save_path, mex_save_path, 10000)"
   ]
  },
  {
   "cell_type": "code",
   "execution_count": null,
   "metadata": {},
   "outputs": [],
   "source": []
  },
  {
   "cell_type": "code",
   "execution_count": null,
   "metadata": {},
   "outputs": [],
   "source": []
  },
  {
   "cell_type": "code",
   "execution_count": null,
   "metadata": {},
   "outputs": [],
   "source": []
  },
  {
   "cell_type": "code",
   "execution_count": null,
   "metadata": {},
   "outputs": [],
   "source": []
  }
 ],
 "metadata": {
  "kernelspec": {
   "display_name": "scarf",
   "language": "python",
   "name": "python3"
  },
  "language_info": {
   "codemirror_mode": {
    "name": "ipython",
    "version": 3
   },
   "file_extension": ".py",
   "mimetype": "text/x-python",
   "name": "python",
   "nbconvert_exporter": "python",
   "pygments_lexer": "ipython3",
   "version": "3.11.9"
  }
 },
 "nbformat": 4,
 "nbformat_minor": 2
}
