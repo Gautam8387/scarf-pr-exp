{
 "cells": [
  {
   "cell_type": "code",
   "execution_count": 1,
   "metadata": {},
   "outputs": [],
   "source": [
    "from utils import controlled_compute, logger, tqdmbar, show_dask_progress, load_zarr, ZARRLOC, permute_in_chunks\n",
    "from typing import Generator, IO, Any, Tuple, List, Union, Dict, Optional\n",
    "from scipy.sparse import csr_matrix, coo_matrix\n",
    "import nexusformat.nexus as nx\n",
    "import pandas as pd\n",
    "import polars as pl\n",
    "import numpy as np\n",
    "import h5py\n",
    "import sys\n",
    "import os\n",
    "import math\n",
    "import zarr"
   ]
  },
  {
   "cell_type": "code",
   "execution_count": 2,
   "metadata": {},
   "outputs": [
    {
     "name": "stdout",
     "output_type": "stream",
     "text": [
      "Scarf is not installed\n"
     ]
    }
   ],
   "source": [
    "# __init__.py at ./\n",
    "# sys.path.append('../../scarf')\n",
    "import sys\n",
    "sys.path.append('../')\n",
    "import scarf"
   ]
  },
  {
   "cell_type": "code",
   "execution_count": 3,
   "metadata": {},
   "outputs": [],
   "source": [
    "ds_ctrl = scarf.DataStore(\n",
    "    '../../notebooks/scarf_datasets/kang_15K_pbmc_rnaseq/data.zarr/',\n",
    "    nthreads=4\n",
    ")\n",
    "ds_stim = scarf.DataStore(\n",
    "    '../../notebooks/scarf_datasets/kang_14K_ifnb-pbmc_rnaseq/data.zarr',\n",
    "    nthreads=4\n",
    ")"
   ]
  },
  {
   "cell_type": "code",
   "execution_count": 4,
   "metadata": {},
   "outputs": [],
   "source": [
    "test_path = '../../tmp/kang_merged_pbmc_rnaseq_test.zarr'\n",
    "!rm -rf {test_path}"
   ]
  },
  {
   "cell_type": "code",
   "execution_count": 5,
   "metadata": {},
   "outputs": [
    {
     "name": "stdout",
     "output_type": "stream",
     "text": [
      "Dumping RNA\n"
     ]
    },
    {
     "data": {
      "application/vnd.jupyter.widget-view+json": {
       "model_id": "6c57eb424bd04873b0ff612ce51725d8",
       "version_major": 2,
       "version_minor": 0
      },
      "text/plain": [
       "Writing data to merged file:   0%|                                                                            …"
      ]
     },
     "metadata": {},
     "output_type": "display_data"
    },
    {
     "data": {
      "application/vnd.jupyter.widget-view+json": {
       "model_id": "e7a07722a00b4f82862e6a3062ae8c0c",
       "version_major": 2,
       "version_minor": 0
      },
      "text/plain": [
       "Writing data to merged file:   0%|                                                                            …"
      ]
     },
     "metadata": {},
     "output_type": "display_data"
    },
    {
     "name": "stdout",
     "output_type": "stream",
     "text": [
      "Merging complete\n"
     ]
    }
   ],
   "source": [
    "merger = scarf.DatasetMerge(\n",
    "    datasets = [ds_ctrl, ds_stim],\n",
    "    zarr_path = test_path,\n",
    "    names = ['ctrl', 'stim'],\n",
    ")\n",
    "merger.dump()"
   ]
  },
  {
   "cell_type": "code",
   "execution_count": 6,
   "metadata": {},
   "outputs": [],
   "source": [
    "ds_ctrl = scarf.DataStore(\n",
    "    '../../tmp/10k_Human_PBMC_TotalSeqB_3p_gemx_Multiplex_count_raw_feature_bc_matrix.zarr',\n",
    "    nthreads=4,\n",
    "    default_assay='RNA'\n",
    ")\n",
    "ds_stim = scarf.DataStore(\n",
    "    '../../tmp/10k_Mouse_Neurons_3p_nextgem_Multiplex_count_raw_feature_bc_matrix.zarr',\n",
    "    nthreads=4\n",
    ")"
   ]
  },
  {
   "cell_type": "code",
   "execution_count": 7,
   "metadata": {},
   "outputs": [],
   "source": [
    "test_path = '../../tmp/zarr-merged.zarr'\n",
    "!rm -rf {test_path}"
   ]
  },
  {
   "cell_type": "code",
   "execution_count": 8,
   "metadata": {},
   "outputs": [
    {
     "name": "stdout",
     "output_type": "stream",
     "text": [
      "\u001b[33m\u001b[1mWARNING\u001b[0m: No overlapping features found! Will not merge the files. Please check the features ids  are comparable across the assays\n",
      "\u001b[33m\u001b[1mWARNING\u001b[0m: The number overlapping features is very low.\n",
      "\u001b[1mINFO\u001b[0m: Generated dummy ADT assay for datastore DataStore has 10276 (10276) cells with 1 assays: RNA\n",
      "   Cell metadata:\n",
      "            'I', 'ids', 'names', 'RNA_nCounts', 'RNA_nFeatures', \n",
      "            'RNA_percentMito', 'RNA_percentRibo'\n",
      "   RNA assay has 17991 (33696) features and following metadata:\n",
      "            'I', 'ids', 'names', 'dropOuts', 'nCells', \n",
      "          \n",
      "Dumping RNA\n"
     ]
    },
    {
     "data": {
      "application/vnd.jupyter.widget-view+json": {
       "model_id": "083005045fd04d74b98280e4974a8ac1",
       "version_major": 2,
       "version_minor": 0
      },
      "text/plain": [
       "Writing data to merged file:   0%|                                                                            …"
      ]
     },
     "metadata": {},
     "output_type": "display_data"
    },
    {
     "data": {
      "application/vnd.jupyter.widget-view+json": {
       "model_id": "d8f596fda9e04c68810f575c4ca5336c",
       "version_major": 2,
       "version_minor": 0
      },
      "text/plain": [
       "Writing data to merged file:   0%|                                                                            …"
      ]
     },
     "metadata": {},
     "output_type": "display_data"
    },
    {
     "name": "stdout",
     "output_type": "stream",
     "text": [
      "Dumping ADT\n"
     ]
    },
    {
     "data": {
      "application/vnd.jupyter.widget-view+json": {
       "model_id": "764754d9b38943f38d27908fc1d0f9fc",
       "version_major": 2,
       "version_minor": 0
      },
      "text/plain": [
       "Writing data to merged file:   0%|                                                                            …"
      ]
     },
     "metadata": {},
     "output_type": "display_data"
    },
    {
     "data": {
      "application/vnd.jupyter.widget-view+json": {
       "model_id": "e36e86e8515941b1acb8d38c3ec9f04d",
       "version_major": 2,
       "version_minor": 0
      },
      "text/plain": [
       "Writing data to merged file:   0%|                                                                            …"
      ]
     },
     "metadata": {},
     "output_type": "display_data"
    },
    {
     "name": "stdout",
     "output_type": "stream",
     "text": [
      "Merging complete\n"
     ]
    }
   ],
   "source": [
    "dataset_merger = scarf.DatasetMerge(\n",
    "    datasets = [ds_ctrl, ds_stim],\n",
    "    zarr_path = test_path,\n",
    "    names = ['ctrl', 'stim'],\n",
    "    overwrite = True\n",
    ")\n",
    "dataset_merger.dump(nthreads=4)"
   ]
  },
  {
   "cell_type": "markdown",
   "metadata": {},
   "source": [
    "# Test"
   ]
  },
  {
   "cell_type": "code",
   "execution_count": 9,
   "metadata": {},
   "outputs": [],
   "source": [
    "import zarr\n",
    "import numpy as np\n",
    "import math\n",
    "from tqdm import tqdm"
   ]
  },
  {
   "cell_type": "code",
   "execution_count": 10,
   "metadata": {},
   "outputs": [
    {
     "data": {
      "text/html": [
       "<table class=\"zarr-info\"><tbody><tr><th style=\"text-align: left\">Type</th><td style=\"text-align: left\">zarr.core.Array</td></tr><tr><th style=\"text-align: left\">Data type</th><td style=\"text-align: left\">uint32</td></tr><tr><th style=\"text-align: left\">Shape</th><td style=\"text-align: left\">(29065, 35635)</td></tr><tr><th style=\"text-align: left\">Chunk shape</th><td style=\"text-align: left\">(1000, 1000)</td></tr><tr><th style=\"text-align: left\">Order</th><td style=\"text-align: left\">C</td></tr><tr><th style=\"text-align: left\">Read-only</th><td style=\"text-align: left\">False</td></tr><tr><th style=\"text-align: left\">Compressor</th><td style=\"text-align: left\">Blosc(cname='lz4', clevel=5, shuffle=BITSHUFFLE, blocksize=0)</td></tr><tr><th style=\"text-align: left\">Store type</th><td style=\"text-align: left\">zarr.storage.DirectoryStore</td></tr><tr><th style=\"text-align: left\">No. bytes</th><td style=\"text-align: left\">4142925100 (3.9G)</td></tr><tr><th style=\"text-align: left\">No. bytes stored</th><td style=\"text-align: left\">81289791 (77.5M)</td></tr><tr><th style=\"text-align: left\">Storage ratio</th><td style=\"text-align: left\">51.0</td></tr><tr><th style=\"text-align: left\">Chunks initialized</th><td style=\"text-align: left\">990/1080</td></tr></tbody></table>"
      ],
      "text/plain": [
       "Type               : zarr.core.Array\n",
       "Data type          : uint32\n",
       "Shape              : (29065, 35635)\n",
       "Chunk shape        : (1000, 1000)\n",
       "Order              : C\n",
       "Read-only          : False\n",
       "Compressor         : Blosc(cname='lz4', clevel=5, shuffle=BITSHUFFLE,\n",
       "                   : blocksize=0)\n",
       "Store type         : zarr.storage.DirectoryStore\n",
       "No. bytes          : 4142925100 (3.9G)\n",
       "No. bytes stored   : 81289791 (77.5M)\n",
       "Storage ratio      : 51.0\n",
       "Chunks initialized : 990/1080"
      ]
     },
     "execution_count": 10,
     "metadata": {},
     "output_type": "execute_result"
    }
   ],
   "source": [
    "original = zarr.open('../../tmp/kang_merged_pbmc_rnaseq_org.zarr/RNA/counts')\n",
    "original.info"
   ]
  },
  {
   "cell_type": "code",
   "execution_count": 11,
   "metadata": {},
   "outputs": [
    {
     "data": {
      "text/html": [
       "<table class=\"zarr-info\"><tbody><tr><th style=\"text-align: left\">Type</th><td style=\"text-align: left\">zarr.core.Array</td></tr><tr><th style=\"text-align: left\">Data type</th><td style=\"text-align: left\">uint32</td></tr><tr><th style=\"text-align: left\">Shape</th><td style=\"text-align: left\">(29065, 35635)</td></tr><tr><th style=\"text-align: left\">Chunk shape</th><td style=\"text-align: left\">(1000, 1000)</td></tr><tr><th style=\"text-align: left\">Order</th><td style=\"text-align: left\">C</td></tr><tr><th style=\"text-align: left\">Read-only</th><td style=\"text-align: left\">False</td></tr><tr><th style=\"text-align: left\">Compressor</th><td style=\"text-align: left\">Blosc(cname='lz4', clevel=5, shuffle=BITSHUFFLE, blocksize=0)</td></tr><tr><th style=\"text-align: left\">Store type</th><td style=\"text-align: left\">zarr.storage.DirectoryStore</td></tr><tr><th style=\"text-align: left\">No. bytes</th><td style=\"text-align: left\">4142925100 (3.9G)</td></tr><tr><th style=\"text-align: left\">No. bytes stored</th><td style=\"text-align: left\">81285726 (77.5M)</td></tr><tr><th style=\"text-align: left\">Storage ratio</th><td style=\"text-align: left\">51.0</td></tr><tr><th style=\"text-align: left\">Chunks initialized</th><td style=\"text-align: left\">990/1080</td></tr></tbody></table>"
      ],
      "text/plain": [
       "Type               : zarr.core.Array\n",
       "Data type          : uint32\n",
       "Shape              : (29065, 35635)\n",
       "Chunk shape        : (1000, 1000)\n",
       "Order              : C\n",
       "Read-only          : False\n",
       "Compressor         : Blosc(cname='lz4', clevel=5, shuffle=BITSHUFFLE,\n",
       "                   : blocksize=0)\n",
       "Store type         : zarr.storage.DirectoryStore\n",
       "No. bytes          : 4142925100 (3.9G)\n",
       "No. bytes stored   : 81285726 (77.5M)\n",
       "Storage ratio      : 51.0\n",
       "Chunks initialized : 990/1080"
      ]
     },
     "execution_count": 11,
     "metadata": {},
     "output_type": "execute_result"
    }
   ],
   "source": [
    "test = zarr.open('../../notebooks/tmp/kang_merged_pbmc_rnaseq_new.zarr/RNA/counts')\n",
    "test.info"
   ]
  },
  {
   "cell_type": "code",
   "execution_count": 12,
   "metadata": {},
   "outputs": [],
   "source": [
    "assert test.shape == original.shape\n",
    "assert test.dtype == original.dtype\n",
    "assert test.nchunks == original.nchunks"
   ]
  },
  {
   "cell_type": "code",
   "execution_count": 13,
   "metadata": {},
   "outputs": [
    {
     "data": {
      "text/plain": [
       "30"
      ]
     },
     "execution_count": 13,
     "metadata": {},
     "output_type": "execute_result"
    }
   ],
   "source": [
    "nChunks = math.ceil(test.shape[0]/test.chunks[0])\n",
    "nChunks"
   ]
  },
  {
   "cell_type": "code",
   "execution_count": 14,
   "metadata": {},
   "outputs": [
    {
     "name": "stderr",
     "output_type": "stream",
     "text": [
      "100%|██████████| 30/30 [00:10<00:00,  2.98it/s]\n"
     ]
    },
    {
     "data": {
      "text/plain": [
       "(48600925.0, 48600925.0)"
      ]
     },
     "execution_count": 14,
     "metadata": {},
     "output_type": "execute_result"
    }
   ],
   "source": [
    "nChunks = math.ceil(test.shape[0]/test.chunks[0])\n",
    "sumOrg = 0\n",
    "sumTest = 0\n",
    "for chunk in tqdm(range(nChunks)):\n",
    "    sumOrg += np.sum(original.get_block_selection(chunk))\n",
    "    sumTest += np.sum(test.get_block_selection(chunk))\n",
    "sumOrg, sumTest"
   ]
  },
  {
   "cell_type": "code",
   "execution_count": 15,
   "metadata": {},
   "outputs": [],
   "source": [
    "assert sumOrg == sumTest"
   ]
  },
  {
   "cell_type": "code",
   "execution_count": 16,
   "metadata": {},
   "outputs": [
    {
     "name": "stderr",
     "output_type": "stream",
     "text": [
      "100%|██████████| 36/36 [00:08<00:00,  4.39it/s]\n"
     ]
    },
    {
     "data": {
      "text/plain": [
       "(48600925.0, 48600925.0)"
      ]
     },
     "execution_count": 16,
     "metadata": {},
     "output_type": "execute_result"
    }
   ],
   "source": [
    "nChunks = math.ceil(test.shape[1]/test.chunks[1])\n",
    "sumOrg = 0\n",
    "sumTest = 0\n",
    "for chunk in tqdm(range(nChunks)):\n",
    "    sumOrg += np.sum(original.blocks[:, chunk])\n",
    "    sumTest += np.sum(test.blocks[:, chunk])\n",
    "sumOrg, sumTest"
   ]
  },
  {
   "cell_type": "code",
   "execution_count": 17,
   "metadata": {},
   "outputs": [],
   "source": [
    "assert sumOrg == sumTest"
   ]
  },
  {
   "cell_type": "markdown",
   "metadata": {},
   "source": [
    "# Test 2"
   ]
  },
  {
   "cell_type": "code",
   "execution_count": 18,
   "metadata": {},
   "outputs": [],
   "source": [
    "import zarr\n",
    "import numpy as np\n",
    "import math\n",
    "from tqdm import tqdm"
   ]
  },
  {
   "cell_type": "code",
   "execution_count": 19,
   "metadata": {},
   "outputs": [
    {
     "data": {
      "text/html": [
       "<table class=\"zarr-info\"><tbody><tr><th style=\"text-align: left\">Type</th><td style=\"text-align: left\">zarr.core.Array</td></tr><tr><th style=\"text-align: left\">Data type</th><td style=\"text-align: left\">uint32</td></tr><tr><th style=\"text-align: left\">Shape</th><td style=\"text-align: left\">(21196, 72302)</td></tr><tr><th style=\"text-align: left\">Chunk shape</th><td style=\"text-align: left\">(1000, 1000)</td></tr><tr><th style=\"text-align: left\">Order</th><td style=\"text-align: left\">C</td></tr><tr><th style=\"text-align: left\">Read-only</th><td style=\"text-align: left\">False</td></tr><tr><th style=\"text-align: left\">Compressor</th><td style=\"text-align: left\">Blosc(cname='lz4', clevel=5, shuffle=BITSHUFFLE, blocksize=0)</td></tr><tr><th style=\"text-align: left\">Store type</th><td style=\"text-align: left\">zarr.storage.DirectoryStore</td></tr><tr><th style=\"text-align: left\">No. bytes</th><td style=\"text-align: left\">6130052768 (5.7G)</td></tr><tr><th style=\"text-align: left\">No. bytes stored</th><td style=\"text-align: left\">175706945 (167.6M)</td></tr><tr><th style=\"text-align: left\">Storage ratio</th><td style=\"text-align: left\">34.9</td></tr><tr><th style=\"text-align: left\">Chunks initialized</th><td style=\"text-align: left\">848/1606</td></tr></tbody></table>"
      ],
      "text/plain": [
       "Type               : zarr.core.Array\n",
       "Data type          : uint32\n",
       "Shape              : (21196, 72302)\n",
       "Chunk shape        : (1000, 1000)\n",
       "Order              : C\n",
       "Read-only          : False\n",
       "Compressor         : Blosc(cname='lz4', clevel=5, shuffle=BITSHUFFLE,\n",
       "                   : blocksize=0)\n",
       "Store type         : zarr.storage.DirectoryStore\n",
       "No. bytes          : 6130052768 (5.7G)\n",
       "No. bytes stored   : 175706945 (167.6M)\n",
       "Storage ratio      : 34.9\n",
       "Chunks initialized : 848/1606"
      ]
     },
     "execution_count": 19,
     "metadata": {},
     "output_type": "execute_result"
    }
   ],
   "source": [
    "original = zarr.open('../../tmp/zarr-merged-org.zarr/RNA/counts')\n",
    "original.info"
   ]
  },
  {
   "cell_type": "code",
   "execution_count": 20,
   "metadata": {},
   "outputs": [
    {
     "data": {
      "text/html": [
       "<table class=\"zarr-info\"><tbody><tr><th style=\"text-align: left\">Type</th><td style=\"text-align: left\">zarr.core.Array</td></tr><tr><th style=\"text-align: left\">Data type</th><td style=\"text-align: left\">uint32</td></tr><tr><th style=\"text-align: left\">Shape</th><td style=\"text-align: left\">(21196, 72302)</td></tr><tr><th style=\"text-align: left\">Chunk shape</th><td style=\"text-align: left\">(1000, 1000)</td></tr><tr><th style=\"text-align: left\">Order</th><td style=\"text-align: left\">C</td></tr><tr><th style=\"text-align: left\">Read-only</th><td style=\"text-align: left\">False</td></tr><tr><th style=\"text-align: left\">Compressor</th><td style=\"text-align: left\">Blosc(cname='lz4', clevel=5, shuffle=BITSHUFFLE, blocksize=0)</td></tr><tr><th style=\"text-align: left\">Store type</th><td style=\"text-align: left\">zarr.storage.DirectoryStore</td></tr><tr><th style=\"text-align: left\">No. bytes</th><td style=\"text-align: left\">6130052768 (5.7G)</td></tr><tr><th style=\"text-align: left\">No. bytes stored</th><td style=\"text-align: left\">175700063 (167.6M)</td></tr><tr><th style=\"text-align: left\">Storage ratio</th><td style=\"text-align: left\">34.9</td></tr><tr><th style=\"text-align: left\">Chunks initialized</th><td style=\"text-align: left\">848/1606</td></tr></tbody></table>"
      ],
      "text/plain": [
       "Type               : zarr.core.Array\n",
       "Data type          : uint32\n",
       "Shape              : (21196, 72302)\n",
       "Chunk shape        : (1000, 1000)\n",
       "Order              : C\n",
       "Read-only          : False\n",
       "Compressor         : Blosc(cname='lz4', clevel=5, shuffle=BITSHUFFLE,\n",
       "                   : blocksize=0)\n",
       "Store type         : zarr.storage.DirectoryStore\n",
       "No. bytes          : 6130052768 (5.7G)\n",
       "No. bytes stored   : 175700063 (167.6M)\n",
       "Storage ratio      : 34.9\n",
       "Chunks initialized : 848/1606"
      ]
     },
     "execution_count": 20,
     "metadata": {},
     "output_type": "execute_result"
    }
   ],
   "source": [
    "test = zarr.open('../../tmp/zarr-merged.zarr/RNA/counts')\n",
    "test.info"
   ]
  },
  {
   "cell_type": "code",
   "execution_count": 21,
   "metadata": {},
   "outputs": [],
   "source": [
    "assert test.shape == original.shape\n",
    "assert test.dtype == original.dtype\n",
    "assert test.nchunks == original.nchunks"
   ]
  },
  {
   "cell_type": "code",
   "execution_count": 22,
   "metadata": {},
   "outputs": [
    {
     "name": "stderr",
     "output_type": "stream",
     "text": [
      "100%|██████████| 22/22 [00:10<00:00,  2.13it/s]\n"
     ]
    },
    {
     "data": {
      "text/plain": [
       "(267089481.0, 267089481.0)"
      ]
     },
     "execution_count": 22,
     "metadata": {},
     "output_type": "execute_result"
    }
   ],
   "source": [
    "nChunks = math.ceil(test.shape[0]/test.chunks[0])\n",
    "sumOrg = 0\n",
    "sumTest = 0\n",
    "for chunk in tqdm(range(nChunks)):\n",
    "    sumOrg += np.sum(original.get_block_selection(chunk))\n",
    "    sumTest += np.sum(test.get_block_selection(chunk))\n",
    "sumOrg, sumTest"
   ]
  },
  {
   "cell_type": "code",
   "execution_count": 23,
   "metadata": {},
   "outputs": [],
   "source": [
    "assert sumOrg == sumTest"
   ]
  },
  {
   "cell_type": "code",
   "execution_count": 24,
   "metadata": {},
   "outputs": [
    {
     "name": "stderr",
     "output_type": "stream",
     "text": [
      "100%|██████████| 73/73 [00:09<00:00,  7.97it/s]\n"
     ]
    },
    {
     "data": {
      "text/plain": [
       "(267089481.0, 267089481.0)"
      ]
     },
     "execution_count": 24,
     "metadata": {},
     "output_type": "execute_result"
    }
   ],
   "source": [
    "nChunks = math.ceil(test.shape[1]/test.chunks[1])\n",
    "sumOrg = 0\n",
    "sumTest = 0\n",
    "for chunk in tqdm(range(nChunks)):\n",
    "    sumOrg += np.sum(original.blocks[:, chunk])\n",
    "    sumTest += np.sum(test.blocks[:, chunk])\n",
    "sumOrg, sumTest"
   ]
  },
  {
   "cell_type": "code",
   "execution_count": 25,
   "metadata": {},
   "outputs": [],
   "source": [
    "assert sumOrg == sumTest"
   ]
  },
  {
   "cell_type": "code",
   "execution_count": null,
   "metadata": {},
   "outputs": [],
   "source": []
  }
 ],
 "metadata": {
  "kernelspec": {
   "display_name": "scarf-up",
   "language": "python",
   "name": "python3"
  },
  "language_info": {
   "codemirror_mode": {
    "name": "ipython",
    "version": 3
   },
   "file_extension": ".py",
   "mimetype": "text/x-python",
   "name": "python",
   "nbconvert_exporter": "python",
   "pygments_lexer": "ipython3",
   "version": "3.11.9"
  }
 },
 "nbformat": 4,
 "nbformat_minor": 2
}
